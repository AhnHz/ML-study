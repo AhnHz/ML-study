{
 "cells": [
  {
   "cell_type": "markdown",
   "metadata": {
    "id": "A4GbEm6xjkzA"
   },
   "source": [
    "# 6.3 실습 - 인공신경망 학습\n",
    "\n",
    "## 6.3.1 인공신경망 학습하기 - 기본"
   ]
  },
  {
   "cell_type": "code",
   "execution_count": 2,
   "metadata": {
    "executionInfo": {
     "elapsed": 6257,
     "status": "ok",
     "timestamp": 1652162494658,
     "user": {
      "displayName": "Jiyoung Kang",
      "userId": "02538451806768451589"
     },
     "user_tz": -540
    },
    "id": "MCDTvylTtMuD",
    "tags": []
   },
   "outputs": [],
   "source": [
    "import numpy as np\n",
    "import pandas as pd\n",
    "import matplotlib.pyplot as plt\n",
    "import seaborn as sns\n",
    "\n",
    "from sklearn.datasets import load_iris\n",
    "from sklearn.model_selection import train_test_split\n",
    "\n",
    "import tensorflow as tf\n",
    "\n",
    "from tensorflow.keras.models import Sequential\n",
    "from tensorflow.keras.layers import Dense"
   ]
  },
  {
   "cell_type": "code",
   "execution_count": 3,
   "metadata": {
    "colab": {
     "base_uri": "https://localhost:8080/",
     "height": 35
    },
    "executionInfo": {
     "elapsed": 55,
     "status": "ok",
     "timestamp": 1652162494660,
     "user": {
      "displayName": "Jiyoung Kang",
      "userId": "02538451806768451589"
     },
     "user_tz": -540
    },
    "id": "-q85Y4tAtMuG",
    "outputId": "afa7a279-42b1-464e-9bf0-fdab2c066dda",
    "tags": []
   },
   "outputs": [
    {
     "data": {
      "text/plain": [
       "'2.10.0'"
      ]
     },
     "execution_count": 3,
     "metadata": {},
     "output_type": "execute_result"
    }
   ],
   "source": [
    "tf.__version__"
   ]
  },
  {
   "cell_type": "code",
   "execution_count": 4,
   "metadata": {
    "executionInfo": {
     "elapsed": 43,
     "status": "ok",
     "timestamp": 1652162494661,
     "user": {
      "displayName": "Jiyoung Kang",
      "userId": "02538451806768451589"
     },
     "user_tz": -540
    },
    "id": "EL9DC52wtMuI",
    "tags": []
   },
   "outputs": [],
   "source": [
    "# 데이터 불러오기\n",
    "iris = load_iris()\n",
    "df = pd.DataFrame(data=iris.data, columns=iris.feature_names)\n",
    "df['label'] = iris.target"
   ]
  },
  {
   "cell_type": "code",
   "execution_count": 5,
   "metadata": {
    "executionInfo": {
     "elapsed": 43,
     "status": "ok",
     "timestamp": 1652162494662,
     "user": {
      "displayName": "Jiyoung Kang",
      "userId": "02538451806768451589"
     },
     "user_tz": -540
    },
    "id": "F8wOt6UFtMuI",
    "tags": []
   },
   "outputs": [],
   "source": [
    "# 데이터분할\n",
    "y = df['label']\n",
    "X = df.drop(['label'], axis=1)\n",
    "\n",
    "X_train, X_test, y_train, y_test = train_test_split(X, y, random_state=42, stratify=y)"
   ]
  },
  {
   "cell_type": "code",
   "execution_count": 19,
   "metadata": {
    "colab": {
     "base_uri": "https://localhost:8080/"
    },
    "executionInfo": {
     "elapsed": 42,
     "status": "ok",
     "timestamp": 1652162494663,
     "user": {
      "displayName": "Jiyoung Kang",
      "userId": "02538451806768451589"
     },
     "user_tz": -540
    },
    "id": "Ik1cha9RuZGI",
    "outputId": "3ea7fdc9-f532-4ad1-885d-12bdd1b3fbfc",
    "tags": []
   },
   "outputs": [
    {
     "data": {
      "text/plain": [
       "(112, 4)"
      ]
     },
     "execution_count": 19,
     "metadata": {},
     "output_type": "execute_result"
    }
   ],
   "source": [
    "X_train.shape"
   ]
  },
  {
   "cell_type": "code",
   "execution_count": 20,
   "metadata": {
    "executionInfo": {
     "elapsed": 531,
     "status": "ok",
     "timestamp": 1652162495163,
     "user": {
      "displayName": "Jiyoung Kang",
      "userId": "02538451806768451589"
     },
     "user_tz": -540
    },
    "id": "EocOIXDhtMuJ",
    "tags": []
   },
   "outputs": [],
   "source": [
    "# 모델의 설정\n",
    "model = Sequential()\n",
    "model.add(Dense(8, input_dim=4, activation='relu'))\n",
    "model.add(Dense(3, activation='softmax'))"
   ]
  },
  {
   "cell_type": "code",
   "execution_count": 21,
   "metadata": {
    "executionInfo": {
     "elapsed": 10,
     "status": "ok",
     "timestamp": 1652162495164,
     "user": {
      "displayName": "Jiyoung Kang",
      "userId": "02538451806768451589"
     },
     "user_tz": -540
    },
    "id": "8Y-j_4lTtMuJ",
    "tags": []
   },
   "outputs": [],
   "source": [
    "# 모델 컴파일\n",
    "model.compile(loss='sparse_categorical_crossentropy',\n",
    "            optimizer='adam',\n",
    "            metrics=['accuracy'])"
   ]
  },
  {
   "cell_type": "code",
   "execution_count": 22,
   "metadata": {
    "colab": {
     "base_uri": "https://localhost:8080/"
    },
    "executionInfo": {
     "elapsed": 10,
     "status": "ok",
     "timestamp": 1652162495164,
     "user": {
      "displayName": "Jiyoung Kang",
      "userId": "02538451806768451589"
     },
     "user_tz": -540
    },
    "id": "JlCK_NpLtMuK",
    "outputId": "4bf106ee-7c14-49fc-9157-12db8ef6b81d",
    "tags": []
   },
   "outputs": [
    {
     "name": "stdout",
     "output_type": "stream",
     "text": [
      "Model: \"sequential_3\"\n",
      "_________________________________________________________________\n",
      " Layer (type)                Output Shape              Param #   \n",
      "=================================================================\n",
      " dense_6 (Dense)             (None, 8)                 40        \n",
      "                                                                 \n",
      " dense_7 (Dense)             (None, 3)                 27        \n",
      "                                                                 \n",
      "=================================================================\n",
      "Total params: 67\n",
      "Trainable params: 67\n",
      "Non-trainable params: 0\n",
      "_________________________________________________________________\n"
     ]
    }
   ],
   "source": [
    "model.summary()"
   ]
  },
  {
   "cell_type": "code",
   "execution_count": 23,
   "metadata": {
    "colab": {
     "base_uri": "https://localhost:8080/"
    },
    "executionInfo": {
     "elapsed": 6067,
     "status": "ok",
     "timestamp": 1652162501227,
     "user": {
      "displayName": "Jiyoung Kang",
      "userId": "02538451806768451589"
     },
     "user_tz": -540
    },
    "id": "3rCCn4FbtMuL",
    "outputId": "226c8c4f-5786-4680-dd72-1ecbd6de8122",
    "tags": []
   },
   "outputs": [
    {
     "name": "stdout",
     "output_type": "stream",
     "text": [
      "Epoch 1/50\n",
      "28/28 [==============================] - 0s 519us/step - loss: 1.8132 - accuracy: 0.3304\n",
      "Epoch 2/50\n",
      "28/28 [==============================] - 0s 517us/step - loss: 1.4327 - accuracy: 0.3304\n",
      "Epoch 3/50\n",
      "28/28 [==============================] - 0s 506us/step - loss: 1.1896 - accuracy: 0.3304\n",
      "Epoch 4/50\n",
      "28/28 [==============================] - 0s 499us/step - loss: 1.0528 - accuracy: 0.3304\n",
      "Epoch 5/50\n",
      "28/28 [==============================] - 0s 480us/step - loss: 0.9875 - accuracy: 0.3304\n",
      "Epoch 6/50\n",
      "28/28 [==============================] - 0s 485us/step - loss: 0.9410 - accuracy: 0.3304\n",
      "Epoch 7/50\n",
      "28/28 [==============================] - 0s 486us/step - loss: 0.8997 - accuracy: 0.3929\n",
      "Epoch 8/50\n",
      "28/28 [==============================] - 0s 486us/step - loss: 0.8672 - accuracy: 0.6250\n",
      "Epoch 9/50\n",
      "28/28 [==============================] - 0s 490us/step - loss: 0.8395 - accuracy: 0.6696\n",
      "Epoch 10/50\n",
      "28/28 [==============================] - 0s 488us/step - loss: 0.8092 - accuracy: 0.6875\n",
      "Epoch 11/50\n",
      "28/28 [==============================] - 0s 476us/step - loss: 0.7803 - accuracy: 0.6964\n",
      "Epoch 12/50\n",
      "28/28 [==============================] - 0s 507us/step - loss: 0.7533 - accuracy: 0.6875\n",
      "Epoch 13/50\n",
      "28/28 [==============================] - 0s 490us/step - loss: 0.7261 - accuracy: 0.6875\n",
      "Epoch 14/50\n",
      "28/28 [==============================] - 0s 481us/step - loss: 0.6987 - accuracy: 0.6964\n",
      "Epoch 15/50\n",
      "28/28 [==============================] - 0s 467us/step - loss: 0.6704 - accuracy: 0.7143\n",
      "Epoch 16/50\n",
      "28/28 [==============================] - 0s 475us/step - loss: 0.6464 - accuracy: 0.7054\n",
      "Epoch 17/50\n",
      "28/28 [==============================] - 0s 488us/step - loss: 0.6228 - accuracy: 0.7054\n",
      "Epoch 18/50\n",
      "28/28 [==============================] - 0s 479us/step - loss: 0.6055 - accuracy: 0.7232\n",
      "Epoch 19/50\n",
      "28/28 [==============================] - 0s 486us/step - loss: 0.5843 - accuracy: 0.7143\n",
      "Epoch 20/50\n",
      "28/28 [==============================] - 0s 480us/step - loss: 0.5667 - accuracy: 0.7589\n",
      "Epoch 21/50\n",
      "28/28 [==============================] - 0s 488us/step - loss: 0.5498 - accuracy: 0.7143\n",
      "Epoch 22/50\n",
      "28/28 [==============================] - 0s 483us/step - loss: 0.5285 - accuracy: 0.7768\n",
      "Epoch 23/50\n",
      "28/28 [==============================] - 0s 493us/step - loss: 0.5159 - accuracy: 0.8214\n",
      "Epoch 24/50\n",
      "28/28 [==============================] - 0s 482us/step - loss: 0.4992 - accuracy: 0.8393\n",
      "Epoch 25/50\n",
      "28/28 [==============================] - 0s 468us/step - loss: 0.4891 - accuracy: 0.8839\n",
      "Epoch 26/50\n",
      "28/28 [==============================] - 0s 488us/step - loss: 0.4743 - accuracy: 0.8125\n",
      "Epoch 27/50\n",
      "28/28 [==============================] - 0s 476us/step - loss: 0.4625 - accuracy: 0.8393\n",
      "Epoch 28/50\n",
      "28/28 [==============================] - 0s 489us/step - loss: 0.4510 - accuracy: 0.8929\n",
      "Epoch 29/50\n",
      "28/28 [==============================] - 0s 505us/step - loss: 0.4418 - accuracy: 0.8661\n",
      "Epoch 30/50\n",
      "28/28 [==============================] - 0s 483us/step - loss: 0.4394 - accuracy: 0.9196\n",
      "Epoch 31/50\n",
      "28/28 [==============================] - 0s 492us/step - loss: 0.4256 - accuracy: 0.8571\n",
      "Epoch 32/50\n",
      "28/28 [==============================] - 0s 517us/step - loss: 0.4130 - accuracy: 0.9107\n",
      "Epoch 33/50\n",
      "28/28 [==============================] - 0s 514us/step - loss: 0.4076 - accuracy: 0.8839\n",
      "Epoch 34/50\n",
      "28/28 [==============================] - 0s 485us/step - loss: 0.3988 - accuracy: 0.9375\n",
      "Epoch 35/50\n",
      "28/28 [==============================] - 0s 485us/step - loss: 0.3904 - accuracy: 0.9286\n",
      "Epoch 36/50\n",
      "28/28 [==============================] - 0s 474us/step - loss: 0.3820 - accuracy: 0.9375\n",
      "Epoch 37/50\n",
      "28/28 [==============================] - 0s 483us/step - loss: 0.3773 - accuracy: 0.9107\n",
      "Epoch 38/50\n",
      "28/28 [==============================] - 0s 485us/step - loss: 0.3692 - accuracy: 0.9286\n",
      "Epoch 39/50\n",
      "28/28 [==============================] - 0s 496us/step - loss: 0.3608 - accuracy: 0.9375\n",
      "Epoch 40/50\n",
      "28/28 [==============================] - 0s 480us/step - loss: 0.3572 - accuracy: 0.9464\n",
      "Epoch 41/50\n",
      "28/28 [==============================] - 0s 483us/step - loss: 0.3490 - accuracy: 0.9375\n",
      "Epoch 42/50\n",
      "28/28 [==============================] - 0s 489us/step - loss: 0.3473 - accuracy: 0.9375\n",
      "Epoch 43/50\n",
      "28/28 [==============================] - 0s 488us/step - loss: 0.3363 - accuracy: 0.9732\n",
      "Epoch 44/50\n",
      "28/28 [==============================] - 0s 493us/step - loss: 0.3299 - accuracy: 0.9643\n",
      "Epoch 45/50\n",
      "28/28 [==============================] - 0s 479us/step - loss: 0.3269 - accuracy: 0.9375\n",
      "Epoch 46/50\n",
      "28/28 [==============================] - 0s 478us/step - loss: 0.3185 - accuracy: 0.9732\n",
      "Epoch 47/50\n",
      "28/28 [==============================] - 0s 505us/step - loss: 0.3134 - accuracy: 0.9732\n",
      "Epoch 48/50\n",
      "28/28 [==============================] - 0s 474us/step - loss: 0.3083 - accuracy: 0.9554\n",
      "Epoch 49/50\n",
      "28/28 [==============================] - 0s 487us/step - loss: 0.3025 - accuracy: 0.9643\n",
      "Epoch 50/50\n",
      "28/28 [==============================] - 0s 481us/step - loss: 0.2988 - accuracy: 0.9643\n"
     ]
    },
    {
     "data": {
      "text/plain": [
       "<keras.callbacks.History at 0x7f9b481436d0>"
      ]
     },
     "execution_count": 23,
     "metadata": {},
     "output_type": "execute_result"
    }
   ],
   "source": [
    "# 모델 실행\n",
    "model.fit(X_train, y_train, epochs=50, batch_size=4)"
   ]
  },
  {
   "cell_type": "code",
   "execution_count": 24,
   "metadata": {
    "colab": {
     "base_uri": "https://localhost:8080/"
    },
    "executionInfo": {
     "elapsed": 496,
     "status": "ok",
     "timestamp": 1652162501720,
     "user": {
      "displayName": "Jiyoung Kang",
      "userId": "02538451806768451589"
     },
     "user_tz": -540
    },
    "id": "UBAzUScutMuM",
    "outputId": "90bc24d8-2ff1-42b2-9980-85c45178cdee",
    "tags": []
   },
   "outputs": [
    {
     "name": "stdout",
     "output_type": "stream",
     "text": [
      "2/2 [==============================] - 0s 1ms/step - loss: 0.3278 - accuracy: 0.9474\n"
     ]
    },
    {
     "data": {
      "text/plain": [
       "[0.3277738690376282, 0.9473684430122375]"
      ]
     },
     "execution_count": 24,
     "metadata": {},
     "output_type": "execute_result"
    }
   ],
   "source": [
    "model.evaluate(X_test, y_test)"
   ]
  },
  {
   "cell_type": "code",
   "execution_count": 25,
   "metadata": {
    "colab": {
     "base_uri": "https://localhost:8080/"
    },
    "executionInfo": {
     "elapsed": 406,
     "status": "ok",
     "timestamp": 1652162502119,
     "user": {
      "displayName": "Jiyoung Kang",
      "userId": "02538451806768451589"
     },
     "user_tz": -540
    },
    "id": "jzuYNWxBtMuN",
    "outputId": "507a3518-b09a-4710-8d05-073e549f67bd",
    "tags": []
   },
   "outputs": [
    {
     "name": "stdout",
     "output_type": "stream",
     "text": [
      "2/2 [==============================] - 0s 1ms/step\n"
     ]
    },
    {
     "data": {
      "text/plain": [
       "array([0.9434395 , 0.05186505, 0.00469543], dtype=float32)"
      ]
     },
     "execution_count": 25,
     "metadata": {},
     "output_type": "execute_result"
    }
   ],
   "source": [
    "model.predict(X_test)[0]"
   ]
  },
  {
   "cell_type": "code",
   "execution_count": 26,
   "metadata": {
    "colab": {
     "base_uri": "https://localhost:8080/"
    },
    "executionInfo": {
     "elapsed": 4,
     "status": "ok",
     "timestamp": 1652162502119,
     "user": {
      "displayName": "Jiyoung Kang",
      "userId": "02538451806768451589"
     },
     "user_tz": -540
    },
    "id": "zdayPkottMuN",
    "outputId": "951fe4e0-5341-4b17-9fdd-17aa594021bb",
    "tags": []
   },
   "outputs": [
    {
     "name": "stdout",
     "output_type": "stream",
     "text": [
      "2/2 [==============================] - 0s 2ms/step\n"
     ]
    },
    {
     "data": {
      "text/plain": [
       "0"
      ]
     },
     "execution_count": 26,
     "metadata": {},
     "output_type": "execute_result"
    }
   ],
   "source": [
    "# 테스트 데이터로 예측한 값이 가장 큰 값을 반환(argmax)한 결과\n",
    "np.argmax(model.predict(X_test)[0])"
   ]
  },
  {
   "cell_type": "code",
   "execution_count": 27,
   "metadata": {
    "colab": {
     "base_uri": "https://localhost:8080/"
    },
    "executionInfo": {
     "elapsed": 3,
     "status": "ok",
     "timestamp": 1652162502120,
     "user": {
      "displayName": "Jiyoung Kang",
      "userId": "02538451806768451589"
     },
     "user_tz": -540
    },
    "id": "bKX8SyQ3tMuN",
    "outputId": "532f1e46-250f-44f2-8241-a8a2602d7ac9",
    "tags": []
   },
   "outputs": [
    {
     "data": {
      "text/plain": [
       "0"
      ]
     },
     "execution_count": 27,
     "metadata": {},
     "output_type": "execute_result"
    }
   ],
   "source": [
    "# 테스트셋의 실제값\n",
    "y_test.iloc[0]"
   ]
  },
  {
   "cell_type": "markdown",
   "metadata": {
    "id": "CIJbtcqpjkzO"
   },
   "source": [
    "### 전체 소스 코드"
   ]
  },
  {
   "cell_type": "code",
   "execution_count": 28,
   "metadata": {
    "colab": {
     "base_uri": "https://localhost:8080/"
    },
    "executionInfo": {
     "elapsed": 6737,
     "status": "ok",
     "timestamp": 1652162508855,
     "user": {
      "displayName": "Jiyoung Kang",
      "userId": "02538451806768451589"
     },
     "user_tz": -540
    },
    "id": "6cW9mIVGtMuO",
    "outputId": "f5261c37-9e9a-4058-90d6-b57b3eda8f4c",
    "tags": []
   },
   "outputs": [
    {
     "name": "stdout",
     "output_type": "stream",
     "text": [
      "Epoch 1/50\n",
      "28/28 [==============================] - 0s 552us/step - loss: 1.4015 - accuracy: 0.3482\n",
      "Epoch 2/50\n",
      "28/28 [==============================] - 0s 568us/step - loss: 1.2752 - accuracy: 0.4018\n",
      "Epoch 3/50\n",
      "28/28 [==============================] - 0s 548us/step - loss: 1.1842 - accuracy: 0.4286\n",
      "Epoch 4/50\n",
      "28/28 [==============================] - 0s 507us/step - loss: 1.1120 - accuracy: 0.3929\n",
      "Epoch 5/50\n",
      "28/28 [==============================] - 0s 487us/step - loss: 1.0554 - accuracy: 0.4196\n",
      "Epoch 6/50\n",
      "28/28 [==============================] - 0s 489us/step - loss: 1.0093 - accuracy: 0.5446\n",
      "Epoch 7/50\n",
      "28/28 [==============================] - 0s 480us/step - loss: 0.9819 - accuracy: 0.4375\n",
      "Epoch 8/50\n",
      "28/28 [==============================] - 0s 489us/step - loss: 0.9539 - accuracy: 0.4643\n",
      "Epoch 9/50\n",
      "28/28 [==============================] - 0s 466us/step - loss: 0.9294 - accuracy: 0.3929\n",
      "Epoch 10/50\n",
      "28/28 [==============================] - 0s 492us/step - loss: 0.8994 - accuracy: 0.4464\n",
      "Epoch 11/50\n",
      "28/28 [==============================] - 0s 477us/step - loss: 0.8794 - accuracy: 0.4821\n",
      "Epoch 12/50\n",
      "28/28 [==============================] - 0s 481us/step - loss: 0.8631 - accuracy: 0.4018\n",
      "Epoch 13/50\n",
      "28/28 [==============================] - 0s 467us/step - loss: 0.8415 - accuracy: 0.4018\n",
      "Epoch 14/50\n",
      "28/28 [==============================] - 0s 477us/step - loss: 0.8189 - accuracy: 0.4286\n",
      "Epoch 15/50\n",
      "28/28 [==============================] - 0s 491us/step - loss: 0.8044 - accuracy: 0.4732\n",
      "Epoch 16/50\n",
      "28/28 [==============================] - 0s 472us/step - loss: 0.7773 - accuracy: 0.7321\n",
      "Epoch 17/50\n",
      "28/28 [==============================] - 0s 476us/step - loss: 0.7529 - accuracy: 0.7679\n",
      "Epoch 18/50\n",
      "28/28 [==============================] - 0s 476us/step - loss: 0.7356 - accuracy: 0.7321\n",
      "Epoch 19/50\n",
      "28/28 [==============================] - 0s 495us/step - loss: 0.7162 - accuracy: 0.8393\n",
      "Epoch 20/50\n",
      "28/28 [==============================] - 0s 482us/step - loss: 0.6918 - accuracy: 0.7500\n",
      "Epoch 21/50\n",
      "28/28 [==============================] - 0s 468us/step - loss: 0.6653 - accuracy: 0.8036\n",
      "Epoch 22/50\n",
      "28/28 [==============================] - 0s 469us/step - loss: 0.6455 - accuracy: 0.8393\n",
      "Epoch 23/50\n",
      "28/28 [==============================] - 0s 490us/step - loss: 0.6263 - accuracy: 0.8482\n",
      "Epoch 24/50\n",
      "28/28 [==============================] - 0s 472us/step - loss: 0.6091 - accuracy: 0.8571\n",
      "Epoch 25/50\n",
      "28/28 [==============================] - 0s 487us/step - loss: 0.5911 - accuracy: 0.9107\n",
      "Epoch 26/50\n",
      "28/28 [==============================] - 0s 488us/step - loss: 0.5732 - accuracy: 0.9018\n",
      "Epoch 27/50\n",
      "28/28 [==============================] - 0s 483us/step - loss: 0.5542 - accuracy: 0.8750\n",
      "Epoch 28/50\n",
      "28/28 [==============================] - 0s 473us/step - loss: 0.5376 - accuracy: 0.9375\n",
      "Epoch 29/50\n",
      "28/28 [==============================] - 0s 482us/step - loss: 0.5229 - accuracy: 0.9464\n",
      "Epoch 30/50\n",
      "28/28 [==============================] - 0s 487us/step - loss: 0.5085 - accuracy: 0.9286\n",
      "Epoch 31/50\n",
      "28/28 [==============================] - 0s 495us/step - loss: 0.4938 - accuracy: 0.9464\n",
      "Epoch 32/50\n",
      "28/28 [==============================] - 0s 487us/step - loss: 0.4815 - accuracy: 0.9196\n",
      "Epoch 33/50\n",
      "28/28 [==============================] - 0s 501us/step - loss: 0.4690 - accuracy: 0.9464\n",
      "Epoch 34/50\n",
      "28/28 [==============================] - 0s 492us/step - loss: 0.4555 - accuracy: 0.9464\n",
      "Epoch 35/50\n",
      "28/28 [==============================] - 0s 484us/step - loss: 0.4444 - accuracy: 0.9375\n",
      "Epoch 36/50\n",
      "28/28 [==============================] - 0s 458us/step - loss: 0.4330 - accuracy: 0.9375\n",
      "Epoch 37/50\n",
      "28/28 [==============================] - 0s 478us/step - loss: 0.4239 - accuracy: 0.9464\n",
      "Epoch 38/50\n",
      "28/28 [==============================] - 0s 461us/step - loss: 0.4127 - accuracy: 0.9375\n",
      "Epoch 39/50\n",
      "28/28 [==============================] - 0s 457us/step - loss: 0.4052 - accuracy: 0.9464\n",
      "Epoch 40/50\n",
      "28/28 [==============================] - 0s 464us/step - loss: 0.3946 - accuracy: 0.9464\n",
      "Epoch 41/50\n",
      "28/28 [==============================] - 0s 503us/step - loss: 0.3874 - accuracy: 0.9375\n",
      "Epoch 42/50\n",
      "28/28 [==============================] - 0s 492us/step - loss: 0.3849 - accuracy: 0.9464\n",
      "Epoch 43/50\n",
      "28/28 [==============================] - 0s 479us/step - loss: 0.3712 - accuracy: 0.9375\n",
      "Epoch 44/50\n",
      "28/28 [==============================] - 0s 482us/step - loss: 0.3630 - accuracy: 0.9464\n",
      "Epoch 45/50\n",
      "28/28 [==============================] - 0s 492us/step - loss: 0.3565 - accuracy: 0.9464\n",
      "Epoch 46/50\n",
      "28/28 [==============================] - 0s 495us/step - loss: 0.3506 - accuracy: 0.9643\n",
      "Epoch 47/50\n",
      "28/28 [==============================] - 0s 499us/step - loss: 0.3432 - accuracy: 0.9554\n",
      "Epoch 48/50\n",
      "28/28 [==============================] - 0s 497us/step - loss: 0.3385 - accuracy: 0.9554\n",
      "Epoch 49/50\n",
      "28/28 [==============================] - 0s 498us/step - loss: 0.3301 - accuracy: 0.9554\n",
      "Epoch 50/50\n",
      "28/28 [==============================] - 0s 459us/step - loss: 0.3264 - accuracy: 0.9464\n",
      "2/2 [==============================] - 0s 2ms/step - loss: 0.3454 - accuracy: 0.9474\n",
      "2/2 [==============================] - 0s 1ms/step\n"
     ]
    },
    {
     "data": {
      "text/plain": [
       "array([0.8988478 , 0.09995721, 0.00119493], dtype=float32)"
      ]
     },
     "execution_count": 28,
     "metadata": {},
     "output_type": "execute_result"
    }
   ],
   "source": [
    "import numpy as np\n",
    "import pandas as pd\n",
    "import matplotlib.pyplot as plt\n",
    "import seaborn as sns\n",
    "from sklearn.datasets import load_iris\n",
    "from sklearn.model_selection import train_test_split\n",
    "import tensorflow as tf\n",
    "from tensorflow.keras.models import Sequential\n",
    "from tensorflow.keras.layers import Dense\n",
    "\n",
    "# 데이터 불러오기\n",
    "iris = load_iris()\n",
    "df = pd.DataFrame(data=iris.data, columns=iris.feature_names)\n",
    "df['label'] = iris.target\n",
    "\n",
    "# 데이터분할\n",
    "y = df['label']\n",
    "X = df.drop(['label'], axis=1)\n",
    "\n",
    "X_train, X_test, y_train, y_test = train_test_split(X, y, random_state=42, stratify=y)\n",
    "\n",
    "# 모델의 설정\n",
    "model = Sequential()\n",
    "model.add(Dense(8, input_dim=4, activation='relu'))\n",
    "model.add(Dense(3, activation='softmax'))\n",
    "\n",
    "# 모델 컴파일\n",
    "model.compile(loss='sparse_categorical_crossentropy',\n",
    "            optimizer='adam',\n",
    "            metrics=['accuracy'])\n",
    "\n",
    "# 모델 실행\n",
    "model.fit(X_train, y_train, epochs=50, batch_size=4)\n",
    "\n",
    "# 모델 평가\n",
    "model.evaluate(X_test, y_test)\n",
    "\n",
    "# 값 예측\n",
    "model.predict(X_test)[0]"
   ]
  }
 ],
 "metadata": {
  "colab": {
   "collapsed_sections": [],
   "name": "6-3_실습_인공신경망학습_iris.ipynb",
   "provenance": []
  },
  "kernelspec": {
   "display_name": "Python 3 (ipykernel)",
   "language": "python",
   "name": "python3"
  },
  "language_info": {
   "codemirror_mode": {
    "name": "ipython",
    "version": 3
   },
   "file_extension": ".py",
   "mimetype": "text/x-python",
   "name": "python",
   "nbconvert_exporter": "python",
   "pygments_lexer": "ipython3",
   "version": "3.10.11"
  },
  "toc": {
   "base_numbering": 1,
   "nav_menu": {},
   "number_sections": false,
   "sideBar": true,
   "skip_h1_title": false,
   "title_cell": "Table of Contents",
   "title_sidebar": "Contents",
   "toc_cell": false,
   "toc_position": {},
   "toc_section_display": true,
   "toc_window_display": false
  }
 },
 "nbformat": 4,
 "nbformat_minor": 4
}
