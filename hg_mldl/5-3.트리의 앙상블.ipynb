{
 "cells": [
  {
   "cell_type": "markdown",
   "metadata": {},
   "source": [
    "# 트리의 앙상블"
   ]
  },
  {
   "cell_type": "markdown",
   "metadata": {},
   "source": [
    "<table align=\"left\">\n",
    "  <td>\n",
    "    <a target=\"_blank\" href=\"https://colab.research.google.com/github/rickiepark/hg-mldl/blob/master/5-3.ipynb\"><img src=\"https://www.tensorflow.org/images/colab_logo_32px.png\" />구글 코랩에서 실행하기</a>\n",
    "  </td>\n",
    "</table>"
   ]
  },
  {
   "cell_type": "markdown",
   "metadata": {
    "colab_type": "text",
    "id": "dIaIAizcRSG-"
   },
   "source": [
    "## 랜덤포레스트\n",
    "- 부트스트랩 샘플 사용"
   ]
  },
  {
   "cell_type": "code",
   "execution_count": 2,
   "metadata": {
    "colab": {},
    "colab_type": "code",
    "id": "ioJUlZ0M_uSZ"
   },
   "outputs": [],
   "source": [
    "import numpy as np\n",
    "import pandas as pd\n",
    "from sklearn.model_selection import train_test_split\n",
    "\n",
    "wine = pd.read_csv('https://bit.ly/wine-date')\n",
    "\n",
    "data = wine[['alcohol', 'sugar', 'pH']].to_numpy()\n",
    "target = wine['class'].to_numpy()\n",
    "\n",
    "train_input, test_input, train_target, test_target = train_test_split(data, target, test_size=0.2, random_state=42)"
   ]
  },
  {
   "cell_type": "code",
   "execution_count": 6,
   "metadata": {
    "colab": {
     "base_uri": "https://localhost:8080/",
     "height": 35
    },
    "colab_type": "code",
    "executionInfo": {
     "elapsed": 5696,
     "status": "ok",
     "timestamp": 1590456856629,
     "user": {
      "displayName": "Haesun Park",
      "photoUrl": "https://lh3.googleusercontent.com/a-/AOh14GhsWlS7sKQL-9fIkg3FmxpTMz_u-KDSs8y__P1ngQ=s64",
      "userId": "14935388527648823821"
     },
     "user_tz": -540
    },
    "id": "JDKQudr7_8nu",
    "outputId": "248807d9-a9cf-4b47-c341-78a9b5c531a8"
   },
   "outputs": [
    {
     "name": "stdout",
     "output_type": "stream",
     "text": [
      "0.9973541965122431 0.8905151032797809\n"
     ]
    }
   ],
   "source": [
    "from sklearn.model_selection import cross_validate\n",
    "from sklearn.ensemble import RandomForestClassifier\n",
    "\n",
    "rf = RandomForestClassifier(n_jobs=-1, random_state=42)  # 100개의 결정 트리를 사용하므로 모든 코어를 사용하는 것이 좋음\n",
    "scores = cross_validate(rf, train_input, train_target, return_train_score=True, n_jobs=-1) #훈련 세트에 대한 점수도 반환\n",
    "\n",
    "print(np.mean(scores['train_score']), np.mean(scores['test_score']))"
   ]
  },
  {
   "cell_type": "code",
   "execution_count": 3,
   "metadata": {
    "colab": {
     "base_uri": "https://localhost:8080/",
     "height": 35
    },
    "colab_type": "code",
    "executionInfo": {
     "elapsed": 6229,
     "status": "ok",
     "timestamp": 1590456857167,
     "user": {
      "displayName": "Haesun Park",
      "photoUrl": "https://lh3.googleusercontent.com/a-/AOh14GhsWlS7sKQL-9fIkg3FmxpTMz_u-KDSs8y__P1ngQ=s64",
      "userId": "14935388527648823821"
     },
     "user_tz": -540
    },
    "id": "XYDbzXNLG8fK",
    "outputId": "705ea712-c357-4b30-ea4d-807dc78003ed"
   },
   "outputs": [
    {
     "name": "stdout",
     "output_type": "stream",
     "text": [
      "[0.23167441 0.50039841 0.26792718]\n"
     ]
    }
   ],
   "source": [
    "rf.fit(train_input, train_target)\n",
    "print(rf.feature_importances_)  # 특성 중요도"
   ]
  },
  {
   "cell_type": "markdown",
   "metadata": {},
   "source": [
    "특성을 랜덤하게 선택하여 훈련하기 때문에 특정 특성에 과도하게 집중하지 않고 더 많은 특성이 훈련할 기회를 갖는다 >> 과대적합은 줄이고 성능은 높임"
   ]
  },
  {
   "cell_type": "markdown",
   "metadata": {},
   "source": [
    "#### OOB샘플(out of bag : 부트스트랩 샘플에 포함되지 않고 남는 샘플) 로 부트스트랩 샘플 훈련 결정트리를 자체 평가할 수 있다"
   ]
  },
  {
   "cell_type": "code",
   "execution_count": 4,
   "metadata": {
    "colab": {
     "base_uri": "https://localhost:8080/",
     "height": 35
    },
    "colab_type": "code",
    "executionInfo": {
     "elapsed": 6623,
     "status": "ok",
     "timestamp": 1590456857568,
     "user": {
      "displayName": "Haesun Park",
      "photoUrl": "https://lh3.googleusercontent.com/a-/AOh14GhsWlS7sKQL-9fIkg3FmxpTMz_u-KDSs8y__P1ngQ=s64",
      "userId": "14935388527648823821"
     },
     "user_tz": -540
    },
    "id": "oMc06S1Fa_A-",
    "outputId": "c95ac58f-b36d-4b5c-ea55-cbcbae49dcae"
   },
   "outputs": [
    {
     "name": "stdout",
     "output_type": "stream",
     "text": [
      "0.8934000384837406\n"
     ]
    }
   ],
   "source": [
    "rf = RandomForestClassifier(oob_score=True, n_jobs=-1, random_state=42)\n",
    "\n",
    "rf.fit(train_input, train_target)\n",
    "print(rf.oob_score_)"
   ]
  },
  {
   "cell_type": "markdown",
   "metadata": {
    "colab_type": "text",
    "id": "KdrVoeQZRU14"
   },
   "source": [
    "## 엑스트라트리\n",
    "- 부트스트랩 샘플을 사용하지 않고 결정 트리를 만들 때 전체 훈련 세트를 사용하고 `노드를 무작위로 분할`한다\n",
    "- 무작위성이 커 랜덤 포레스트보다 더 많은 결정 트리를 훈련해야함. 하지만 (최적의 분할을 찾지 않고) 랜덤하게 노드를 분할하기 때문에 빠르다"
   ]
  },
  {
   "cell_type": "code",
   "execution_count": 5,
   "metadata": {
    "colab": {
     "base_uri": "https://localhost:8080/",
     "height": 35
    },
    "colab_type": "code",
    "executionInfo": {
     "elapsed": 8760,
     "status": "ok",
     "timestamp": 1590456859712,
     "user": {
      "displayName": "Haesun Park",
      "photoUrl": "https://lh3.googleusercontent.com/a-/AOh14GhsWlS7sKQL-9fIkg3FmxpTMz_u-KDSs8y__P1ngQ=s64",
      "userId": "14935388527648823821"
     },
     "user_tz": -540
    },
    "id": "noMLdywdOGrE",
    "outputId": "e83303c0-f058-4d9f-9508-e00510e15ca8"
   },
   "outputs": [
    {
     "name": "stdout",
     "output_type": "stream",
     "text": [
      "0.9974503966084433 0.8887848893166506\n"
     ]
    }
   ],
   "source": [
    "from sklearn.ensemble import ExtraTreesClassifier\n",
    "\n",
    "et = ExtraTreesClassifier(n_jobs=-1, random_state=42)\n",
    "scores = cross_validate(et, train_input, train_target, return_train_score=True, n_jobs=-1)\n",
    "\n",
    "print(np.mean(scores['train_score']), np.mean(scores['test_score']))"
   ]
  },
  {
   "cell_type": "code",
   "execution_count": 6,
   "metadata": {
    "colab": {
     "base_uri": "https://localhost:8080/",
     "height": 35
    },
    "colab_type": "code",
    "executionInfo": {
     "elapsed": 9043,
     "status": "ok",
     "timestamp": 1590456860000,
     "user": {
      "displayName": "Haesun Park",
      "photoUrl": "https://lh3.googleusercontent.com/a-/AOh14GhsWlS7sKQL-9fIkg3FmxpTMz_u-KDSs8y__P1ngQ=s64",
      "userId": "14935388527648823821"
     },
     "user_tz": -540
    },
    "id": "HnB0_mBqfcXL",
    "outputId": "f21039a3-d254-4632-e17b-059f3ca7b98b"
   },
   "outputs": [
    {
     "name": "stdout",
     "output_type": "stream",
     "text": [
      "[0.20183568 0.52242907 0.27573525]\n"
     ]
    }
   ],
   "source": [
    "et.fit(train_input, train_target)\n",
    "\n",
    "print(et.feature_importances_)  # 특성 중요도"
   ]
  },
  {
   "cell_type": "markdown",
   "metadata": {
    "colab_type": "text",
    "id": "csKxnaxeRX8s"
   },
   "source": [
    "## 그레이디언트 부스팅\n",
    "- 깊이가 `얕은 결정 트리를 연속하여 추가`함 >> 과대적합에 강하다! (기본적으로 깊이 3, 결정트리 100개 사용)\n",
    "- 경사 하강법을 사용해 트리를 앙상블에 추가함\n",
    "- 분류에서는 로지스틱 손실함수를 사용하고 회귀에서는 평균 제곱 오차 함수를 사용한다"
   ]
  },
  {
   "cell_type": "code",
   "execution_count": 7,
   "metadata": {
    "colab": {
     "base_uri": "https://localhost:8080/",
     "height": 35
    },
    "colab_type": "code",
    "executionInfo": {
     "elapsed": 2049,
     "status": "ok",
     "timestamp": 1590457581468,
     "user": {
      "displayName": "Haesun Park",
      "photoUrl": "https://lh3.googleusercontent.com/a-/AOh14GhsWlS7sKQL-9fIkg3FmxpTMz_u-KDSs8y__P1ngQ=s64",
      "userId": "14935388527648823821"
     },
     "user_tz": -540
    },
    "id": "_IlNEFkaNsoG",
    "outputId": "2afd6bfb-d786-455d-a7a9-760ceceb0d88"
   },
   "outputs": [
    {
     "name": "stdout",
     "output_type": "stream",
     "text": [
      "0.8881086892152563 0.8720430147331015\n"
     ]
    }
   ],
   "source": [
    "from sklearn.ensemble import GradientBoostingClassifier\n",
    "\n",
    "gb = GradientBoostingClassifier(random_state=42)\n",
    "scores = cross_validate(gb, train_input, train_target, return_train_score=True, n_jobs=-1)\n",
    "\n",
    "print(np.mean(scores['train_score']), np.mean(scores['test_score']))"
   ]
  },
  {
   "cell_type": "markdown",
   "metadata": {},
   "source": [
    "그레이디언트 부스팅은 결정 트리 개수를 늘려도 과대적합에 강함!"
   ]
  },
  {
   "cell_type": "code",
   "execution_count": 8,
   "metadata": {
    "colab": {
     "base_uri": "https://localhost:8080/",
     "height": 35
    },
    "colab_type": "code",
    "executionInfo": {
     "elapsed": 7560,
     "status": "ok",
     "timestamp": 1590461231780,
     "user": {
      "displayName": "Haesun Park",
      "photoUrl": "https://lh3.googleusercontent.com/a-/AOh14GhsWlS7sKQL-9fIkg3FmxpTMz_u-KDSs8y__P1ngQ=s64",
      "userId": "14935388527648823821"
     },
     "user_tz": -540
    },
    "id": "pNpeS8EWpeEi",
    "outputId": "9a1656a2-fa47-400f-d410-3ef7fe2312c3"
   },
   "outputs": [
    {
     "name": "stdout",
     "output_type": "stream",
     "text": [
      "0.9464595437171814 0.8780082549788999\n"
     ]
    }
   ],
   "source": [
    "gb = GradientBoostingClassifier(n_estimators=500, learning_rate=0.2, random_state=42)  # 결정 트리 개수 500개\n",
    "scores = cross_validate(gb, train_input, train_target, return_train_score=True, n_jobs=-1)  # , 학습률 기본값 0.1\n",
    "\n",
    "print(np.mean(scores['train_score']), np.mean(scores['test_score']))"
   ]
  },
  {
   "cell_type": "code",
   "execution_count": null,
   "metadata": {
    "colab": {
     "base_uri": "https://localhost:8080/",
     "height": 35
    },
    "colab_type": "code",
    "executionInfo": {
     "elapsed": 8856,
     "status": "ok",
     "timestamp": 1590457589130,
     "user": {
      "displayName": "Haesun Park",
      "photoUrl": "https://lh3.googleusercontent.com/a-/AOh14GhsWlS7sKQL-9fIkg3FmxpTMz_u-KDSs8y__P1ngQ=s64",
      "userId": "14935388527648823821"
     },
     "user_tz": -540
    },
    "id": "qD6iWVsGqCAE",
    "outputId": "948a8ae8-bdc4-4777-fdab-282fbbe8709e"
   },
   "outputs": [
    {
     "name": "stdout",
     "output_type": "stream",
     "text": [
      "[0.15872278 0.68010884 0.16116839]\n"
     ]
    }
   ],
   "source": [
    "gb.fit(train_input, train_target)\n",
    "print(gb.feature_importances_)"
   ]
  },
  {
   "cell_type": "markdown",
   "metadata": {},
   "source": [
    "그레이디언트 부스팅이 렌덤 포레스트보다 일부 특성에 더 집중한다"
   ]
  },
  {
   "cell_type": "markdown",
   "metadata": {
    "colab_type": "text",
    "id": "BthW_II9RbLa"
   },
   "source": [
    "## 히스토그램 기반 부스팅\n",
    "- `입력 특성을 256개의 구간으로` 나눈다 >> 최적의 노드 분할을 빠르게 찾을 수 있다\n",
    "- 256개 구간 중 하나를 떼어놓고 누락된 값을 위해 사용함. 누락된 특성이 있어도 전처리할 필요 없음\n",
    "- 트리의 개수를 지정하는데 n_estimators 대신 부스팅 반복 횟수를 지정하는 `max_iter` 사용\n"
   ]
  },
  {
   "cell_type": "code",
   "execution_count": 11,
   "metadata": {
    "colab": {
     "base_uri": "https://localhost:8080/",
     "height": 35
    },
    "colab_type": "code",
    "executionInfo": {
     "elapsed": 4048,
     "status": "ok",
     "timestamp": 1590463804209,
     "user": {
      "displayName": "Haesun Park",
      "photoUrl": "https://lh3.googleusercontent.com/a-/AOh14GhsWlS7sKQL-9fIkg3FmxpTMz_u-KDSs8y__P1ngQ=s64",
      "userId": "14935388527648823821"
     },
     "user_tz": -540
    },
    "id": "_3Ct_NNWQbdA",
    "outputId": "8f9b8ad7-a7a2-4aae-c44a-e4b577a71d99"
   },
   "outputs": [
    {
     "name": "stdout",
     "output_type": "stream",
     "text": [
      "0.9321723946453317 0.8801241948619236\n"
     ]
    }
   ],
   "source": [
    "#from sklearn.experimental import enable_hist_gradient_boosting  테스트 중이었는데 이제 임포트 안해도됨\n",
    "from sklearn.ensemble import HistGradientBoostingClassifier\n",
    "\n",
    "hgb = HistGradientBoostingClassifier(random_state=42)\n",
    "scores = cross_validate(hgb, train_input, train_target, return_train_score=True, n_jobs=-1)\n",
    "\n",
    "print(np.mean(scores['train_score']), np.mean(scores['test_score']))"
   ]
  },
  {
   "cell_type": "markdown",
   "metadata": {},
   "source": [
    "과대적합 잘 억제하면서 그레이디언트 부스팅보다 조금 더 나은 성능"
   ]
  },
  {
   "cell_type": "markdown",
   "metadata": {},
   "source": [
    "#### 특성 중요도"
   ]
  },
  {
   "cell_type": "code",
   "execution_count": 12,
   "metadata": {},
   "outputs": [
    {
     "name": "stdout",
     "output_type": "stream",
     "text": [
      "[0.08876275 0.23438522 0.08027708]\n"
     ]
    }
   ],
   "source": [
    "from sklearn.inspection import permutation_importance\n",
    "\n",
    "hgb.fit(train_input, train_target)\n",
    "\n",
    "result = permutation_importance(hgb, train_input, train_target, n_repeats=10, random_state=42, n_jobs=-1) # 랜덤으로 섞일 횟수 10\n",
    "\n",
    "print(result.importances_mean)"
   ]
  },
  {
   "cell_type": "code",
   "execution_count": 14,
   "metadata": {},
   "outputs": [
    {
     "name": "stdout",
     "output_type": "stream",
     "text": [
      "[0.05969231 0.20238462 0.049     ]\n"
     ]
    }
   ],
   "source": [
    "result = permutation_importance(hgb, test_input, test_target, n_repeats=10, random_state=42, n_jobs=-1) #테스트 세트\n",
    "\n",
    "print(result.importances_mean)"
   ]
  },
  {
   "cell_type": "code",
   "execution_count": 15,
   "metadata": {
    "colab": {
     "base_uri": "https://localhost:8080/",
     "height": 35
    },
    "colab_type": "code",
    "executionInfo": {
     "elapsed": 5791,
     "status": "ok",
     "timestamp": 1590463815909,
     "user": {
      "displayName": "Haesun Park",
      "photoUrl": "https://lh3.googleusercontent.com/a-/AOh14GhsWlS7sKQL-9fIkg3FmxpTMz_u-KDSs8y__P1ngQ=s64",
      "userId": "14935388527648823821"
     },
     "user_tz": -540
    },
    "id": "TvlB0GMTS3hn",
    "outputId": "38fc3c42-595c-4611-a7a4-d8813ac09f05"
   },
   "outputs": [
    {
     "name": "stdout",
     "output_type": "stream",
     "text": [
      "[0.23167441 0.50039841 0.26792718]\n"
     ]
    }
   ],
   "source": [
    "hgb.fit(train_input, train_target)\n",
    "print(rf.feature_importances_)"
   ]
  },
  {
   "cell_type": "code",
   "execution_count": 16,
   "metadata": {
    "colab": {
     "base_uri": "https://localhost:8080/",
     "height": 35
    },
    "colab_type": "code",
    "executionInfo": {
     "elapsed": 5182,
     "status": "ok",
     "timestamp": 1590463816242,
     "user": {
      "displayName": "Haesun Park",
      "photoUrl": "https://lh3.googleusercontent.com/a-/AOh14GhsWlS7sKQL-9fIkg3FmxpTMz_u-KDSs8y__P1ngQ=s64",
      "userId": "14935388527648823821"
     },
     "user_tz": -540
    },
    "id": "pqplZjh0j2nw",
    "outputId": "652cbcd7-3636-40f8-ec31-e56e304e29da"
   },
   "outputs": [
    {
     "data": {
      "text/plain": [
       "0.8723076923076923"
      ]
     },
     "execution_count": 16,
     "metadata": {},
     "output_type": "execute_result"
    }
   ],
   "source": [
    "hgb.score(test_input, test_target)  # 성능. 단일 결정 트리보다 좋은 결과"
   ]
  },
  {
   "cell_type": "code",
   "execution_count": null,
   "metadata": {},
   "outputs": [],
   "source": [
    "pip install xgboost"
   ]
  },
  {
   "cell_type": "markdown",
   "metadata": {
    "colab_type": "text",
    "id": "8fz_FrezBezR"
   },
   "source": [
    "#### XGBoost"
   ]
  },
  {
   "cell_type": "code",
   "execution_count": 20,
   "metadata": {
    "colab": {
     "base_uri": "https://localhost:8080/",
     "height": 35
    },
    "colab_type": "code",
    "executionInfo": {
     "elapsed": 1655,
     "status": "ok",
     "timestamp": 1590463845317,
     "user": {
      "displayName": "Haesun Park",
      "photoUrl": "https://lh3.googleusercontent.com/a-/AOh14GhsWlS7sKQL-9fIkg3FmxpTMz_u-KDSs8y__P1ngQ=s64",
      "userId": "14935388527648823821"
     },
     "user_tz": -540
    },
    "id": "YBYLvOiV6rga",
    "outputId": "93f59f85-e029-41ab-ee63-f5d860e31f5d"
   },
   "outputs": [
    {
     "name": "stdout",
     "output_type": "stream",
     "text": [
      "0.9555033709953124 0.8799326275264677\n"
     ]
    }
   ],
   "source": [
    "from xgboost import XGBClassifier\n",
    "\n",
    "xgb = XGBClassifier(tree_method='hist', random_state=42)  # 히스토그램 기반 그레이디언트 부스팅 사용\n",
    "scores = cross_validate(xgb, train_input, train_target, return_train_score=True, n_jobs=-1)\n",
    "\n",
    "print(np.mean(scores['train_score']), np.mean(scores['test_score']))"
   ]
  },
  {
   "cell_type": "markdown",
   "metadata": {
    "colab_type": "text",
    "id": "zl6nh6DOBd-B"
   },
   "source": [
    "#### LightGBM"
   ]
  },
  {
   "cell_type": "code",
   "execution_count": 8,
   "metadata": {},
   "outputs": [
    {
     "name": "stdout",
     "output_type": "stream",
     "text": [
      "0.935828414851749 0.8801251203079884\n"
     ]
    }
   ],
   "source": [
    "from lightgbm import LGBMClassifier\n",
    "\n",
    "lgb = LGBMClassifier(random_state=42)  # 히스토그램 기반 그레이디언트 부스팅 사용\n",
    "scores = cross_validate(lgb, train_input, train_target, return_train_score=True, n_jobs=-1)\n",
    "\n",
    "print(np.mean(scores['train_score']), np.mean(scores['test_score']))"
   ]
  }
 ],
 "metadata": {
  "colab": {
   "authorship_tag": "ABX9TyPOJwXVwGQSikHrOscFum3b",
   "collapsed_sections": [],
   "name": "5-3 트리의 앙상블.ipynb",
   "provenance": []
  },
  "kernelspec": {
   "display_name": "Python 3 (ipykernel)",
   "language": "python",
   "name": "python3"
  },
  "language_info": {
   "codemirror_mode": {
    "name": "ipython",
    "version": 3
   },
   "file_extension": ".py",
   "mimetype": "text/x-python",
   "name": "python",
   "nbconvert_exporter": "python",
   "pygments_lexer": "ipython3",
   "version": "3.10.11"
  }
 },
 "nbformat": 4,
 "nbformat_minor": 4
}
