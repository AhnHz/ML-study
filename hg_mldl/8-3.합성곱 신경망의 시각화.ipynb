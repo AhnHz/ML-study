{
 "cells": [
  {
   "cell_type": "markdown",
   "metadata": {
    "id": "Khb4cafb5-It"
   },
   "source": [
    "# 합성곱 신경망의 시각화"
   ]
  },
  {
   "cell_type": "markdown",
   "metadata": {
    "id": "gtBpMgcc5-I0"
   },
   "source": [
    "<table align=\"left\">\n",
    "  <td>\n",
    "    <a target=\"_blank\" href=\"https://colab.research.google.com/github/rickiepark/hg-mldl/blob/master/8-3.ipynb\"><img src=\"https://www.tensorflow.org/images/colab_logo_32px.png\" />구글 코랩에서 실행하기</a>\n",
    "  </td>\n",
    "</table>"
   ]
  },
  {
   "cell_type": "code",
   "execution_count": 2,
   "metadata": {
    "tags": []
   },
   "outputs": [],
   "source": [
    "# 경고메세지 안뜨게끔,,\n",
    "import os\n",
    "\n",
    "os.environ['TF_CPP_MIN_LOG_LEVEL'] = '3'"
   ]
  },
  {
   "cell_type": "code",
   "execution_count": 3,
   "metadata": {
    "id": "sao-3wR_EG3L",
    "tags": []
   },
   "outputs": [],
   "source": [
    "# 실행마다 동일한 결과를 얻기 위해 케라스에 랜덤 시드를 사용하고 텐서플로 연산을 결정적으로 만듭니다. \n",
    "import tensorflow as tf\n",
    "\n",
    "tf.keras.utils.set_random_seed(42)\n",
    "tf.config.experimental.enable_op_determinism()"
   ]
  },
  {
   "cell_type": "markdown",
   "metadata": {
    "id": "10YURv8s5-I0"
   },
   "source": [
    "## 가중치 시각화"
   ]
  },
  {
   "cell_type": "code",
   "execution_count": 4,
   "metadata": {
    "id": "Q7Uqs_t65-I0",
    "tags": []
   },
   "outputs": [],
   "source": [
    "from tensorflow import keras"
   ]
  },
  {
   "cell_type": "code",
   "execution_count": 6,
   "metadata": {
    "id": "y6Fx0cai5-I1",
    "tags": []
   },
   "outputs": [],
   "source": [
    "model = keras.models.load_model('best-cnn-model.h5')  # 체크포인트 파일 불러오기"
   ]
  },
  {
   "cell_type": "code",
   "execution_count": 7,
   "metadata": {
    "colab": {
     "base_uri": "https://localhost:8080/"
    },
    "id": "tOhJnNvW5-I1",
    "outputId": "87b6fd47-95bd-4bfb-bc7c-aa9091da7950",
    "scrolled": true,
    "tags": []
   },
   "outputs": [
    {
     "data": {
      "text/plain": [
       "[<keras.layers.convolutional.conv2d.Conv2D at 0x7fb0d2ef30d0>,\n",
       " <keras.layers.pooling.max_pooling2d.MaxPooling2D at 0x7fb0d2ef3130>,\n",
       " <keras.layers.convolutional.conv2d.Conv2D at 0x7fb0d2ef3b50>,\n",
       " <keras.layers.pooling.max_pooling2d.MaxPooling2D at 0x7fb0d2ef3670>,\n",
       " <keras.layers.reshaping.flatten.Flatten at 0x7fb0a1d7c0d0>,\n",
       " <keras.layers.core.dense.Dense at 0x7fb0a1d7e3e0>,\n",
       " <keras.layers.regularization.dropout.Dropout at 0x7fb0a1d7e170>,\n",
       " <keras.layers.core.dense.Dense at 0x7fb0a1d7db70>]"
      ]
     },
     "execution_count": 7,
     "metadata": {},
     "output_type": "execute_result"
    }
   ],
   "source": [
    "model.layers"
   ]
  },
  {
   "cell_type": "markdown",
   "metadata": {},
   "source": [
    "#### weights의 첫번째 원소는 층의 가중치 , weights의 두번째 원소는 층의 절편 "
   ]
  },
  {
   "cell_type": "code",
   "execution_count": 9,
   "metadata": {
    "colab": {
     "base_uri": "https://localhost:8080/"
    },
    "id": "7e-EMS_h5-I2",
    "outputId": "d65da1e0-efb9-4d20-ebe3-0d2948532013",
    "scrolled": true,
    "tags": []
   },
   "outputs": [
    {
     "name": "stdout",
     "output_type": "stream",
     "text": [
      "(3, 3, 1, 32) (32,)\n"
     ]
    }
   ],
   "source": [
    "conv = model.layers[0]\n",
    "\n",
    "print(conv.weights[0].shape, conv.weights[1].shape)  # 가중치, 절편의 크기"
   ]
  },
  {
   "cell_type": "code",
   "execution_count": 10,
   "metadata": {
    "colab": {
     "base_uri": "https://localhost:8080/"
    },
    "id": "D5WNlXS55-I3",
    "outputId": "aac70d58-cd69-4d75-a7f6-ab93a0cd7237",
    "tags": []
   },
   "outputs": [
    {
     "name": "stdout",
     "output_type": "stream",
     "text": [
      "-0.018945258 0.24118595\n"
     ]
    }
   ],
   "source": [
    "conv_weights = conv.weights[0].numpy()  # 넘파이 배열로 변환\n",
    "\n",
    "print(conv_weights.mean(), conv_weights.std())  # 평균과 표준편차 계산"
   ]
  },
  {
   "cell_type": "code",
   "execution_count": 11,
   "metadata": {
    "id": "Mm_xATS95-I3",
    "tags": []
   },
   "outputs": [],
   "source": [
    "import matplotlib.pyplot as plt"
   ]
  },
  {
   "cell_type": "markdown",
   "metadata": {},
   "source": [
    "#### 히스토그램을 그리기 위해 1차원 배열로 변환해야함. reshape=(-1,1)로 한개의 열로 바꿈"
   ]
  },
  {
   "cell_type": "code",
   "execution_count": 12,
   "metadata": {
    "colab": {
     "base_uri": "https://localhost:8080/",
     "height": 279
    },
    "id": "lm37R-hD5-I3",
    "outputId": "fa6b36d3-33b4-42f9-dad6-52cb17ca815a",
    "tags": []
   },
   "outputs": [
    {
     "data": {
      "image/png": "[encoded data removed]",
      "text/plain": [
       "<Figure size 640x480 with 1 Axes>"
      ]
     },
     "metadata": {},
     "output_type": "display_data"
    }
   ],
   "source": [
    "plt.hist(conv_weights.reshape(-1, 1))\n",
    "plt.xlabel('weight')\n",
    "plt.ylabel('count')\n",
    "plt.show()"
   ]
  },
  {
   "cell_type": "code",
   "execution_count": 13,
   "metadata": {
    "colab": {
     "base_uri": "https://localhost:8080/",
     "height": 134
    },
    "id": "FBxjPV045-I4",
    "outputId": "ac323f0b-0fcd-4427-8995-5fb5151f0357",
    "scrolled": true,
    "tags": []
   },
   "outputs": [
    {
     "data": {
      "image/png": "[encoded data removed]",
      "text/plain": [
       "<Figure size 1500x200 with 32 Axes>"
      ]
     },
     "metadata": {},
     "output_type": "display_data"
    }
   ],
   "source": [
    "fig, axs = plt.subplots(2, 16, figsize=(15,2))\n",
    "\n",
    "for i in range(2):  # 32개 커널 출력\n",
    "    for j in range(16):\n",
    "        axs[i, j].imshow(conv_weights[:,:,0,i*16 + j], vmin=-0.5, vmax=0.5)  # [:,:,0,0]에서 [:,:,0,31]까지\n",
    "        axs[i, j].axis('off')\n",
    "\n",
    "plt.show()"
   ]
  },
  {
   "cell_type": "code",
   "execution_count": 14,
   "metadata": {
    "id": "P-r4Dx2N5-I4",
    "tags": []
   },
   "outputs": [],
   "source": [
    "no_training_model = keras.Sequential()\n",
    "\n",
    "no_training_model.add(keras.layers.Conv2D(32, kernel_size=3, activation='relu', \n",
    "                                          padding='same', input_shape=(28,28,1)))"
   ]
  },
  {
   "cell_type": "code",
   "execution_count": 15,
   "metadata": {
    "colab": {
     "base_uri": "https://localhost:8080/"
    },
    "id": "SRz0Z0z_5-I4",
    "outputId": "c8b3759d-69bc-4846-ba2d-e6552b4c7e69",
    "tags": []
   },
   "outputs": [
    {
     "name": "stdout",
     "output_type": "stream",
     "text": [
      "(3, 3, 1, 32)\n"
     ]
    }
   ],
   "source": [
    "no_training_conv = no_training_model.layers[0]  # 가중치를 no_training_conv 변수에 저장\n",
    "\n",
    "print(no_training_conv.weights[0].shape)"
   ]
  },
  {
   "cell_type": "code",
   "execution_count": 16,
   "metadata": {
    "colab": {
     "base_uri": "https://localhost:8080/"
    },
    "id": "7FUqZL695-I4",
    "outputId": "22550e61-cfb0-480b-9f04-ea28ed13252b",
    "tags": []
   },
   "outputs": [
    {
     "name": "stdout",
     "output_type": "stream",
     "text": [
      "-0.0016975602 0.08003447\n"
     ]
    }
   ],
   "source": [
    "no_training_weights = no_training_conv.weights[0].numpy()  # 넘파이로 변환\n",
    "\n",
    "print(no_training_weights.mean(), no_training_weights.std())  # 평균과 표준편차 계산"
   ]
  },
  {
   "cell_type": "code",
   "execution_count": 17,
   "metadata": {
    "colab": {
     "base_uri": "https://localhost:8080/",
     "height": 279
    },
    "id": "DktjNm4Z5-I5",
    "outputId": "ee4420f5-0d9a-4521-b997-bb82a75168be",
    "tags": []
   },
   "outputs": [
    {
     "data": {
      "image/png": "[encoded data removed]",
      "text/plain": [
       "<Figure size 640x480 with 1 Axes>"
      ]
     },
     "metadata": {},
     "output_type": "display_data"
    }
   ],
   "source": [
    "plt.hist(no_training_weights.reshape(-1, 1))\n",
    "plt.xlabel('weight')\n",
    "plt.ylabel('count')\n",
    "plt.show()"
   ]
  },
  {
   "cell_type": "markdown",
   "metadata": {},
   "source": [
    "가중치가 비교적 고른 분포. 텐서플로가 신경망의 가중치를 처음 초기화할때 `균등 분포에서 랜덤하게 값`을 선택하기 때문!"
   ]
  },
  {
   "cell_type": "code",
   "execution_count": 18,
   "metadata": {
    "colab": {
     "base_uri": "https://localhost:8080/",
     "height": 134
    },
    "id": "b7QmwoUe5-I5",
    "outputId": "96d117c1-c0a1-4834-f3ff-eab925961572",
    "scrolled": true,
    "tags": []
   },
   "outputs": [
    {
     "data": {
      "image/png": "[encoded data removed]",
      "text/plain": [
       "<Figure size 1500x200 with 32 Axes>"
      ]
     },
     "metadata": {},
     "output_type": "display_data"
    }
   ],
   "source": [
    "fig, axs = plt.subplots(2, 16, figsize=(15,2))\n",
    "\n",
    "for i in range(2):\n",
    "    for j in range(16):\n",
    "        axs[i, j].imshow(no_training_weights[:,:,0,i*16 + j], vmin=-0.5, vmax=0.5)\n",
    "        axs[i, j].axis('off')\n",
    "\n",
    "plt.show()"
   ]
  },
  {
   "cell_type": "markdown",
   "metadata": {},
   "source": [
    "전체적으로 밋밋한 가중치"
   ]
  },
  {
   "cell_type": "markdown",
   "metadata": {
    "id": "GEc9KyP35-I6"
   },
   "source": [
    "## 함수형 API"
   ]
  },
  {
   "cell_type": "code",
   "execution_count": 19,
   "metadata": {
    "colab": {
     "base_uri": "https://localhost:8080/"
    },
    "id": "RZ27RyZJ5-I6",
    "outputId": "b0e4ab94-7064-42bc-8b26-fea75cbce8e6",
    "tags": []
   },
   "outputs": [
    {
     "name": "stdout",
     "output_type": "stream",
     "text": [
      "KerasTensor(type_spec=TensorSpec(shape=(None, 28, 28, 1), dtype=tf.float32, name='conv2d_input'), name='conv2d_input', description=\"created by layer 'conv2d_input'\")\n"
     ]
    }
   ],
   "source": [
    "print(model.input)"
   ]
  },
  {
   "cell_type": "markdown",
   "metadata": {},
   "source": [
    "#### model.input과 model.layers[0].output을 연결하는 conv_acti 모델 만들기"
   ]
  },
  {
   "cell_type": "code",
   "execution_count": 21,
   "metadata": {
    "id": "FfHfv9w_5-I6",
    "tags": []
   },
   "outputs": [],
   "source": [
    "conv_acti = keras.Model(model.input, model.layers[0].output)  # 모델 객체의 입력, Conv2D층이 출력한 특성맵(output 속성)"
   ]
  },
  {
   "cell_type": "markdown",
   "metadata": {
    "id": "CF6JzHj-5-I6"
   },
   "source": [
    "## 특성 맵 시각화"
   ]
  },
  {
   "cell_type": "code",
   "execution_count": 22,
   "metadata": {
    "colab": {
     "base_uri": "https://localhost:8080/"
    },
    "id": "TU5ENBPB5-I7",
    "outputId": "74a0d00e-4351-448e-9c21-5191c605d4a6",
    "tags": []
   },
   "outputs": [],
   "source": [
    "(train_input, train_target), (test_input, test_target) = keras.datasets.fashion_mnist.load_data()"
   ]
  },
  {
   "cell_type": "code",
   "execution_count": 23,
   "metadata": {
    "colab": {
     "base_uri": "https://localhost:8080/",
     "height": 265
    },
    "id": "8-GBYsqm5-I7",
    "outputId": "4f40d413-218e-4149-843c-84636b129d54",
    "tags": []
   },
   "outputs": [
    {
     "data": {
      "image/png": "[encoded data removed]",
      "text/plain": [
       "<Figure size 640x480 with 1 Axes>"
      ]
     },
     "metadata": {},
     "output_type": "display_data"
    }
   ],
   "source": [
    "plt.imshow(train_input[0], cmap='gray_r')\n",
    "plt.show()"
   ]
  },
  {
   "cell_type": "markdown",
   "metadata": {},
   "source": [
    "#### 케라스 fit(), predict(), evaluate() 메소드는 입력의 첫번째 차원이 배치 차원일 것으로 기대함\n",
    "- 하나의 샘플을 전달하더라도 꼭 `첫번째 차원을 유지`해아한다 !!\n",
    "- (784,) 크기를 (28,28,1) 크기로 변경한다"
   ]
  },
  {
   "cell_type": "code",
   "execution_count": 24,
   "metadata": {
    "colab": {
     "base_uri": "https://localhost:8080/"
    },
    "id": "aJDrgyzo5-I7",
    "outputId": "6b4a2f2c-518a-4454-ddf7-f1003056f03d",
    "tags": []
   },
   "outputs": [
    {
     "name": "stdout",
     "output_type": "stream",
     "text": [
      "1/1 [==============================] - 0s 62ms/step\n"
     ]
    }
   ],
   "source": [
    "inputs = train_input[0:1].reshape(-1, 28, 28, 1)/255.0  \n",
    "\n",
    "feature_maps = conv_acti.predict(inputs)"
   ]
  },
  {
   "cell_type": "code",
   "execution_count": 25,
   "metadata": {
    "colab": {
     "base_uri": "https://localhost:8080/"
    },
    "id": "wYMHCQ0C5-I7",
    "outputId": "14a0f547-ad39-4866-a10e-e18e2d7f2574",
    "tags": []
   },
   "outputs": [
    {
     "name": "stdout",
     "output_type": "stream",
     "text": [
      "(1, 28, 28, 32)\n"
     ]
    }
   ],
   "source": [
    "print(feature_maps.shape)"
   ]
  },
  {
   "cell_type": "markdown",
   "metadata": {},
   "source": [
    "첫번째 차원은 배치 차원, 세임 패딩과 32개의 필터를 사용한 합성곱 층 출력이기 때문에 32"
   ]
  },
  {
   "cell_type": "code",
   "execution_count": 26,
   "metadata": {
    "colab": {
     "base_uri": "https://localhost:8080/",
     "height": 460
    },
    "id": "n9hhqasw5-I7",
    "outputId": "9707dd17-f059-41e0-f5c7-97637e295394",
    "tags": []
   },
   "outputs": [
    {
     "data": {
      "image/png": "[encoded data removed]",
      "text/plain": [
       "<Figure size 1500x800 with 32 Axes>"
      ]
     },
     "metadata": {},
     "output_type": "display_data"
    }
   ],
   "source": [
    "# 특성맵 그리기\n",
    "\n",
    "fig, axs = plt.subplots(4, 8, figsize=(15,8))\n",
    "\n",
    "for i in range(4):\n",
    "    for j in range(8):\n",
    "        axs[i, j].imshow(feature_maps[0,:,:,i*8 + j])\n",
    "        axs[i, j].axis('off')\n",
    "\n",
    "plt.show()"
   ]
  },
  {
   "cell_type": "markdown",
   "metadata": {},
   "source": [
    "32개 필터의 가중치를 출력한 그림이 밝은 것이 해당 이미지를 잘 감지했다"
   ]
  },
  {
   "cell_type": "markdown",
   "metadata": {},
   "source": [
    "#### 두번째 합성곱 층이 만든 특성맵 확인"
   ]
  },
  {
   "cell_type": "code",
   "execution_count": 27,
   "metadata": {
    "id": "RBCPiHm_5-I8",
    "tags": []
   },
   "outputs": [],
   "source": [
    "conv2_acti = keras.Model(model.input, model.layers[2].output)"
   ]
  },
  {
   "cell_type": "code",
   "execution_count": 28,
   "metadata": {
    "colab": {
     "base_uri": "https://localhost:8080/"
    },
    "id": "n5U3pxZc5-I8",
    "outputId": "705e0d25-190d-4214-e2a8-af00613d6ff8",
    "tags": []
   },
   "outputs": [
    {
     "name": "stdout",
     "output_type": "stream",
     "text": [
      "1/1 [==============================] - 0s 39ms/step\n"
     ]
    }
   ],
   "source": [
    "feature_maps = conv2_acti.predict(train_input[0:1].reshape(-1, 28, 28, 1)/255.0)"
   ]
  },
  {
   "cell_type": "code",
   "execution_count": 29,
   "metadata": {
    "colab": {
     "base_uri": "https://localhost:8080/"
    },
    "id": "9QcCxjOf5-I8",
    "outputId": "c9accd10-6741-4bda-c387-f12ae76619fb",
    "tags": []
   },
   "outputs": [
    {
     "name": "stdout",
     "output_type": "stream",
     "text": [
      "(1, 14, 14, 64)\n"
     ]
    }
   ],
   "source": [
    "print(feature_maps.shape)"
   ]
  },
  {
   "cell_type": "markdown",
   "metadata": {},
   "source": [
    "첫번째 차원은 배치 차원, 64개의 필터를 사용한 합성곱 층 출력이기 때문에 64"
   ]
  },
  {
   "cell_type": "code",
   "execution_count": 30,
   "metadata": {
    "colab": {
     "base_uri": "https://localhost:8080/",
     "height": 683
    },
    "id": "6xc2oG6D5-I8",
    "outputId": "e9505bac-67f7-48d7-e2bc-25a5e49f1dc6",
    "tags": []
   },
   "outputs": [
    {
     "data": {
      "image/png": "[encoded data removed]",
      "text/plain": [
       "<Figure size 1200x1200 with 64 Axes>"
      ]
     },
     "metadata": {},
     "output_type": "display_data"
    }
   ],
   "source": [
    "fig, axs = plt.subplots(8, 8, figsize=(12,12))\n",
    "\n",
    "for i in range(8):\n",
    "    for j in range(8):\n",
    "        axs[i, j].imshow(feature_maps[0,:,:,i*8 + j])\n",
    "        axs[i, j].axis('off')\n",
    "\n",
    "plt.show()"
   ]
  },
  {
   "cell_type": "markdown",
   "metadata": {},
   "source": [
    "첫번째 필터가 앞서 출력한 32개의 특성맵과 곱해져 두번째 합성곱 층의 첫번째 특성맵이 됨. 시각적으로 알아보기 어려움 (추상적인 정보를 학습)"
   ]
  }
 ],
 "metadata": {
  "accelerator": "GPU",
  "colab": {
   "name": "8-3.ipynb",
   "provenance": []
  },
  "kernelspec": {
   "display_name": "Python 3 (ipykernel)",
   "language": "python",
   "name": "python3"
  },
  "language_info": {
   "codemirror_mode": {
    "name": "ipython",
    "version": 3
   },
   "file_extension": ".py",
   "mimetype": "text/x-python",
   "name": "python",
   "nbconvert_exporter": "python",
   "pygments_lexer": "ipython3",
   "version": "3.10.11"
  }
 },
 "nbformat": 4,
 "nbformat_minor": 4
}
