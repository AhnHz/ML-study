{
 "cells": [
  {
   "cell_type": "markdown",
   "metadata": {
    "id": "MusV5YYT6kQF"
   },
   "source": [
    "# 순환 신경망으로 IMDB 리뷰 분류하기"
   ]
  },
  {
   "cell_type": "markdown",
   "metadata": {
    "id": "9uYfRb5-6kQQ"
   },
   "source": [
    "<table align=\"left\">\n",
    "  <td>\n",
    "    <a target=\"_blank\" href=\"https://colab.research.google.com/github/rickiepark/hg-mldl/blob/master/9-2.ipynb\"><img src=\"https://www.tensorflow.org/images/colab_logo_32px.png\" />구글 코랩에서 실행하기</a>\n",
    "  </td>\n",
    "</table>"
   ]
  },
  {
   "cell_type": "code",
   "execution_count": 1,
   "metadata": {
    "tags": []
   },
   "outputs": [],
   "source": [
    "# 경고메세지 안뜨게끔,,\n",
    "import os\n",
    "\n",
    "os.environ['TF_CPP_MIN_LOG_LEVEL'] = '3'"
   ]
  },
  {
   "cell_type": "code",
   "execution_count": 2,
   "metadata": {
    "id": "oBxL32NvSEVb",
    "tags": []
   },
   "outputs": [
    {
     "name": "stdout",
     "output_type": "stream",
     "text": [
      "Intel MKL WARNING: Support of Intel(R) Streaming SIMD Extensions 4.2 (Intel(R) SSE4.2) enabled only processors has been deprecated. Intel oneAPI Math Kernel Library 2025.0 will require Intel(R) Advanced Vector Extensions (Intel(R) AVX) instructions.\n",
      "Intel MKL WARNING: Support of Intel(R) Streaming SIMD Extensions 4.2 (Intel(R) SSE4.2) enabled only processors has been deprecated. Intel oneAPI Math Kernel Library 2025.0 will require Intel(R) Advanced Vector Extensions (Intel(R) AVX) instructions.\n"
     ]
    }
   ],
   "source": [
    "# 실행마다 동일한 결과를 얻기 위해 케라스에 랜덤 시드를 사용하고 텐서플로 연산을 결정적으로 만듭니다. \n",
    "import tensorflow as tf\n",
    "\n",
    "tf.keras.utils.set_random_seed(42)\n",
    "tf.config.experimental.enable_op_determinism()"
   ]
  },
  {
   "cell_type": "markdown",
   "metadata": {
    "id": "S1A-DDIQ6kQQ"
   },
   "source": [
    "## IMDB 리뷰 데이터셋"
   ]
  },
  {
   "cell_type": "code",
   "execution_count": 3,
   "metadata": {
    "colab": {
     "base_uri": "https://localhost:8080/"
    },
    "id": "sZoZm1ZO6kQR",
    "outputId": "970e9522-28c6-4b10-b671-1f5eff9f90a4",
    "tags": []
   },
   "outputs": [
    {
     "name": "stdout",
     "output_type": "stream",
     "text": [
      "Downloading data from https://storage.googleapis.com/tensorflow/tf-keras-datasets/imdb.npz\n",
      "17464789/17464789 [==============================] - 2s 0us/step\n"
     ]
    }
   ],
   "source": [
    "from tensorflow.keras.datasets import imdb\n",
    "\n",
    "(train_input, train_target), (test_input, test_target) = imdb.load_data(\n",
    "    num_words=300)  # 단어 300개만"
   ]
  },
  {
   "cell_type": "code",
   "execution_count": 4,
   "metadata": {
    "colab": {
     "base_uri": "https://localhost:8080/"
    },
    "id": "HTFjz6k06kQR",
    "outputId": "0cccf892-3183-448d-9f94-7c010dac1edf",
    "tags": []
   },
   "outputs": [
    {
     "name": "stdout",
     "output_type": "stream",
     "text": [
      "(25000,) (25000,)\n"
     ]
    }
   ],
   "source": [
    "print(train_input.shape, test_input.shape)"
   ]
  },
  {
   "cell_type": "code",
   "execution_count": 6,
   "metadata": {
    "colab": {
     "base_uri": "https://localhost:8080/"
    },
    "id": "4jMLURzw6kQS",
    "outputId": "c0302727-ad47-4964-86b7-24796b6f4e8c",
    "tags": []
   },
   "outputs": [
    {
     "name": "stdout",
     "output_type": "stream",
     "text": [
      "218\n"
     ]
    }
   ],
   "source": [
    "print(len(train_input[0]))  # 첫번째 리뷰의 길이 (토큰 개수)"
   ]
  },
  {
   "cell_type": "code",
   "execution_count": 7,
   "metadata": {
    "colab": {
     "base_uri": "https://localhost:8080/"
    },
    "id": "xdO834PL6kQT",
    "outputId": "e4c8fd95-ca85-4ddf-b6c3-88980854037d",
    "tags": []
   },
   "outputs": [
    {
     "name": "stdout",
     "output_type": "stream",
     "text": [
      "189\n"
     ]
    }
   ],
   "source": [
    "print(len(train_input[1]))  # 두번째 리뷰의 길이"
   ]
  },
  {
   "cell_type": "code",
   "execution_count": 8,
   "metadata": {
    "colab": {
     "base_uri": "https://localhost:8080/"
    },
    "id": "QNuzGQ2c6kQT",
    "outputId": "5ecec504-954f-4041-fc0f-510564c2fded",
    "tags": []
   },
   "outputs": [
    {
     "name": "stdout",
     "output_type": "stream",
     "text": [
      "[1, 14, 22, 16, 43, 2, 2, 2, 2, 65, 2, 2, 66, 2, 4, 173, 36, 256, 5, 25, 100, 43, 2, 112, 50, 2, 2, 9, 35, 2, 284, 5, 150, 4, 172, 112, 167, 2, 2, 2, 39, 4, 172, 2, 2, 17, 2, 38, 13, 2, 4, 192, 50, 16, 6, 147, 2, 19, 14, 22, 4, 2, 2, 2, 4, 22, 71, 87, 12, 16, 43, 2, 38, 76, 15, 13, 2, 4, 22, 17, 2, 17, 12, 16, 2, 18, 2, 5, 62, 2, 12, 8, 2, 8, 106, 5, 4, 2, 2, 16, 2, 66, 2, 33, 4, 130, 12, 16, 38, 2, 5, 25, 124, 51, 36, 135, 48, 25, 2, 33, 6, 22, 12, 215, 28, 77, 52, 5, 14, 2, 16, 82, 2, 8, 4, 107, 117, 2, 15, 256, 4, 2, 7, 2, 5, 2, 36, 71, 43, 2, 2, 26, 2, 2, 46, 7, 4, 2, 2, 13, 104, 88, 4, 2, 15, 297, 98, 32, 2, 56, 26, 141, 6, 194, 2, 18, 4, 226, 22, 21, 134, 2, 26, 2, 5, 144, 30, 2, 18, 51, 36, 28, 224, 92, 25, 104, 4, 226, 65, 16, 38, 2, 88, 12, 16, 283, 5, 16, 2, 113, 103, 32, 15, 16, 2, 19, 178, 32]\n"
     ]
    }
   ],
   "source": [
    "print(train_input[0])  # IMDB 리뷰 데이터는 이미 정수로 변환됨. 어휘 사전에 없는 단어는 2로 표시"
   ]
  },
  {
   "cell_type": "code",
   "execution_count": 9,
   "metadata": {
    "colab": {
     "base_uri": "https://localhost:8080/"
    },
    "id": "In8Qzltz6kQT",
    "outputId": "9081c841-cee5-4099-c090-2c0e068325a8",
    "tags": []
   },
   "outputs": [
    {
     "name": "stdout",
     "output_type": "stream",
     "text": [
      "[1 0 0 1 0 0 1 0 1 0 1 0 0 0 0 0 1 1 0 1]\n"
     ]
    }
   ],
   "source": [
    "print(train_target[:20])  # 부정 0, 긍정 1"
   ]
  },
  {
   "cell_type": "code",
   "execution_count": 10,
   "metadata": {
    "id": "0-zjNgBw6kQU",
    "tags": []
   },
   "outputs": [],
   "source": [
    "from sklearn.model_selection import train_test_split\n",
    "\n",
    "train_input, val_input, train_target, val_target = train_test_split(\n",
    "    train_input, train_target, test_size=0.2, random_state=42)"
   ]
  },
  {
   "cell_type": "markdown",
   "metadata": {},
   "source": [
    "#### 리뷰의 길이 확인"
   ]
  },
  {
   "cell_type": "code",
   "execution_count": 11,
   "metadata": {
    "id": "sRVvgntx6kQU",
    "tags": []
   },
   "outputs": [],
   "source": [
    "import numpy as np\n",
    "\n",
    "lengths = np.array([len(x) for x in train_input])"
   ]
  },
  {
   "cell_type": "code",
   "execution_count": 12,
   "metadata": {
    "colab": {
     "base_uri": "https://localhost:8080/"
    },
    "id": "p76m_61w6kQU",
    "outputId": "c873585c-6028-4e5d-c91a-35ff52d51ead",
    "tags": []
   },
   "outputs": [
    {
     "name": "stdout",
     "output_type": "stream",
     "text": [
      "239.00925 178.0\n"
     ]
    }
   ],
   "source": [
    "print(np.mean(lengths), np.median(lengths))  # 평균 단어 개수와 중간값"
   ]
  },
  {
   "cell_type": "code",
   "execution_count": 13,
   "metadata": {
    "colab": {
     "base_uri": "https://localhost:8080/",
     "height": 279
    },
    "id": "TVDrsRYF6kQV",
    "outputId": "bc047aa2-e3cd-4739-df78-cd374d1a7f9a",
    "tags": []
   },
   "outputs": [
    {
     "data": {
      "image/png": "[encoded data removed]",
      "text/plain": [
       "<Figure size 640x480 with 1 Axes>"
      ]
     },
     "metadata": {},
     "output_type": "display_data"
    }
   ],
   "source": [
    "import matplotlib.pyplot as plt\n",
    "\n",
    "plt.hist(lengths)\n",
    "plt.xlabel('length')\n",
    "plt.ylabel('frequency')\n",
    "plt.show()"
   ]
  },
  {
   "cell_type": "markdown",
   "metadata": {},
   "source": [
    "### 시퀀스 데이터의 길이를 맞추는 pad_sequences() 함수\n",
    "- 지정한 길이보다 길면 잘라내고 짧은 경우는 0으로 패딩\n",
    "- 긴 시퀀스의 앞부분을 자르는 것이 기본값. 뒷부분을 자르고 싶다면 truncating 매개변수 값을 'pre'가 아니라 'post'로 바꾸면 됨\n",
    "- 짧은 시퀀스의 앞부분을 0으로 패딩하는 것이 기본값. 뒷부분을 패딩하고 싶다면 padding 매개변수 값을 'pre'가 아니라 'post'로 바꾸면 됨"
   ]
  },
  {
   "cell_type": "code",
   "execution_count": 14,
   "metadata": {
    "id": "fbLSFToP6kQV",
    "tags": []
   },
   "outputs": [],
   "source": [
    "from tensorflow.keras.preprocessing.sequence import pad_sequences\n",
    "\n",
    "train_seq = pad_sequences(train_input, maxlen=100)"
   ]
  },
  {
   "cell_type": "code",
   "execution_count": 15,
   "metadata": {
    "colab": {
     "base_uri": "https://localhost:8080/"
    },
    "id": "3c86x0Yj6kQV",
    "outputId": "bf91a6f2-daf8-41bb-bcb7-2271a41a7fec",
    "tags": []
   },
   "outputs": [
    {
     "name": "stdout",
     "output_type": "stream",
     "text": [
      "(20000, 100)\n"
     ]
    }
   ],
   "source": [
    "print(train_seq.shape)"
   ]
  },
  {
   "cell_type": "code",
   "execution_count": 16,
   "metadata": {
    "colab": {
     "base_uri": "https://localhost:8080/"
    },
    "id": "JuP0QJaU6kQW",
    "outputId": "4ffc9996-fb18-494f-9b3a-c7bc11455f54",
    "tags": []
   },
   "outputs": [
    {
     "name": "stdout",
     "output_type": "stream",
     "text": [
      "[ 10   4  20   9   2   2   2   5  45   6   2   2  33 269   8   2 142   2\n",
      "   5   2  17  73  17 204   5   2  19  55   2   2  92  66 104  14  20  93\n",
      "  76   2 151  33   4  58  12 188   2 151  12 215  69 224 142  73 237   6\n",
      "   2   7   2   2 188   2 103  14  31  10  10   2   7   2   5   2  80  91\n",
      "   2  30   2  34  14  20 151  50  26 131  49   2  84  46  50  37  80  79\n",
      "   6   2  46   7  14  20  10  10   2 158]\n"
     ]
    }
   ],
   "source": [
    "print(train_seq[0])  # 첫번째 샘플"
   ]
  },
  {
   "cell_type": "markdown",
   "metadata": {},
   "source": [
    "0이 없는걸로 보아 100 단어 이상이었을 것"
   ]
  },
  {
   "cell_type": "code",
   "execution_count": 17,
   "metadata": {
    "colab": {
     "base_uri": "https://localhost:8080/"
    },
    "id": "6t8kaDji6kQW",
    "outputId": "cd06e51f-e10c-49c6-bba5-d0d2fa0360e3",
    "tags": []
   },
   "outputs": [
    {
     "name": "stdout",
     "output_type": "stream",
     "text": [
      "[6, 2, 46, 7, 14, 20, 10, 10, 2, 158]\n"
     ]
    }
   ],
   "source": [
    "print(train_input[0][-10:])  # 원본의 끝 10단어 확인"
   ]
  },
  {
   "cell_type": "markdown",
   "metadata": {},
   "source": [
    "샘플 끝 10단어와 완벽히 일치하는 것으로 보아 앞부분이 잘린 것을 알 수 있다"
   ]
  },
  {
   "cell_type": "code",
   "execution_count": 18,
   "metadata": {
    "colab": {
     "base_uri": "https://localhost:8080/"
    },
    "id": "Emmoztwa6kQX",
    "outputId": "0a5572e2-b455-4c83-e115-4a1a05612353",
    "scrolled": true,
    "tags": []
   },
   "outputs": [
    {
     "name": "stdout",
     "output_type": "stream",
     "text": [
      "[  0   0   0   0   1   2 195  19  49   2   2 190   4   2   2   2 183  10\n",
      "  10  13  82  79   4   2  36  71 269   8   2  25  19  49   7   4   2   2\n",
      "   2   2   2  10  10  48  25  40   2  11   2   2  40   2   2   5   4   2\n",
      "   2  95  14 238  56 129   2  10  10  21   2  94   2   2   2   2  11 190\n",
      "  24   2   2   7  94 205   2  10  10  87   2  34  49   2   7   2   2   2\n",
      "   2   2 290   2  46  48  64  18   4   2]\n"
     ]
    }
   ],
   "source": [
    "print(train_seq[5])  # 여섯번째 샘플 "
   ]
  },
  {
   "cell_type": "markdown",
   "metadata": {},
   "source": [
    "앞부분이 0인 것을 보아 원본 샘플의 길이가 100보다 작았을 것"
   ]
  },
  {
   "cell_type": "markdown",
   "metadata": {},
   "source": [
    "#### 검증 세트의 길이도 100으로 맞춰준다"
   ]
  },
  {
   "cell_type": "code",
   "execution_count": 19,
   "metadata": {
    "id": "ZeFmsjOd6kQX",
    "tags": []
   },
   "outputs": [],
   "source": [
    "val_seq = pad_sequences(val_input, maxlen=100)"
   ]
  },
  {
   "cell_type": "markdown",
   "metadata": {
    "id": "9xab0nu_6kQX"
   },
   "source": [
    "## 순환 신경망 만들기"
   ]
  },
  {
   "cell_type": "code",
   "execution_count": 20,
   "metadata": {
    "id": "45BtHGKX6kQX",
    "tags": []
   },
   "outputs": [],
   "source": [
    "from tensorflow import keras\n",
    "\n",
    "model = keras.Sequential()\n",
    "\n",
    "model.add(keras.layers.SimpleRNN(8, input_shape=(100, 300)))  # 뉴런 개수 8, 샘플의 길이 100, 단어를 300개로 지정해서\n",
    "                                                                           # 원-핫 인코딩을 위한 정수값 범위 0~299\n",
    "model.add(keras.layers.Dense(1, activation='sigmoid'))  # 이진분류니까 sigmoid. 다중분류의 경우 softmax"
   ]
  },
  {
   "cell_type": "markdown",
   "metadata": {},
   "source": [
    "#### 정수 배열 입력을 자동으로 원-핫 인코딩된 배열로 반환해주는 to_categorical() 함수"
   ]
  },
  {
   "cell_type": "code",
   "execution_count": 21,
   "metadata": {
    "id": "oXIWyOuw6kQY",
    "tags": []
   },
   "outputs": [],
   "source": [
    "train_oh = keras.utils.to_categorical(train_seq) "
   ]
  },
  {
   "cell_type": "code",
   "execution_count": 22,
   "metadata": {
    "colab": {
     "base_uri": "https://localhost:8080/"
    },
    "id": "VD94WiRT6kQY",
    "outputId": "a97218f5-804c-4060-c537-1df582173c52",
    "tags": []
   },
   "outputs": [
    {
     "name": "stdout",
     "output_type": "stream",
     "text": [
      "(20000, 100, 300)\n"
     ]
    }
   ],
   "source": [
    "print(train_oh.shape)"
   ]
  },
  {
   "cell_type": "code",
   "execution_count": 23,
   "metadata": {
    "colab": {
     "base_uri": "https://localhost:8080/"
    },
    "id": "VIVSHwJg6kQY",
    "outputId": "c2df3582-854d-4b89-8d80-b8411a6df5c0",
    "tags": []
   },
   "outputs": [
    {
     "name": "stdout",
     "output_type": "stream",
     "text": [
      "[0. 0. 0. 0. 0. 0. 0. 0. 0. 0. 1. 0.]\n"
     ]
    }
   ],
   "source": [
    "print(train_oh[0][0][:12])  # 열한번째 원소 1"
   ]
  },
  {
   "cell_type": "code",
   "execution_count": 24,
   "metadata": {
    "colab": {
     "base_uri": "https://localhost:8080/"
    },
    "id": "CP3ivii46kQZ",
    "outputId": "802d01d6-0d4f-4ec9-a5ea-2a4bbccb3fa9",
    "tags": []
   },
   "outputs": [
    {
     "name": "stdout",
     "output_type": "stream",
     "text": [
      "1.0\n"
     ]
    }
   ],
   "source": [
    "print(np.sum(train_oh[0][0]))  # 잘 인코딩 되었는지(다 합쳐 1인지) 확인"
   ]
  },
  {
   "cell_type": "code",
   "execution_count": 25,
   "metadata": {
    "id": "vgijH6m26kQZ",
    "tags": []
   },
   "outputs": [],
   "source": [
    "val_oh = keras.utils.to_categorical(val_seq)"
   ]
  },
  {
   "cell_type": "code",
   "execution_count": 26,
   "metadata": {
    "colab": {
     "base_uri": "https://localhost:8080/"
    },
    "id": "0V0Svpuf6kQZ",
    "outputId": "5262a7c4-bb80-47fa-e149-ff02fc13b033",
    "tags": []
   },
   "outputs": [
    {
     "name": "stdout",
     "output_type": "stream",
     "text": [
      "Model: \"sequential\"\n",
      "_________________________________________________________________\n",
      " Layer (type)                Output Shape              Param #   \n",
      "=================================================================\n",
      " simple_rnn (SimpleRNN)      (None, 8)                 2472      \n",
      "                                                                 \n",
      " dense (Dense)               (None, 1)                 9         \n",
      "                                                                 \n",
      "=================================================================\n",
      "Total params: 2,481\n",
      "Trainable params: 2,481\n",
      "Non-trainable params: 0\n",
      "_________________________________________________________________\n"
     ]
    }
   ],
   "source": [
    "model.summary()"
   ]
  },
  {
   "cell_type": "markdown",
   "metadata": {
    "id": "S22Hc-7L6kQZ"
   },
   "source": [
    "## 순환 신경망 훈련하기"
   ]
  },
  {
   "cell_type": "code",
   "execution_count": 27,
   "metadata": {
    "colab": {
     "base_uri": "https://localhost:8080/"
    },
    "id": "YcwM299t6kQZ",
    "outputId": "a5d754f7-649a-4349-ab48-861a0c3f514f",
    "tags": []
   },
   "outputs": [
    {
     "name": "stdout",
     "output_type": "stream",
     "text": [
      "Epoch 1/100\n",
      "313/313 [==============================] - 4s 10ms/step - loss: 0.7003 - accuracy: 0.4999 - val_loss: 0.6970 - val_accuracy: 0.5058\n",
      "Epoch 2/100\n",
      "313/313 [==============================] - 3s 9ms/step - loss: 0.6956 - accuracy: 0.5124 - val_loss: 0.6946 - val_accuracy: 0.5124\n",
      "Epoch 3/100\n",
      "313/313 [==============================] - 3s 9ms/step - loss: 0.6917 - accuracy: 0.5288 - val_loss: 0.6909 - val_accuracy: 0.5316\n",
      "Epoch 4/100\n",
      "313/313 [==============================] - 3s 9ms/step - loss: 0.6843 - accuracy: 0.5556 - val_loss: 0.6832 - val_accuracy: 0.5690\n",
      "Epoch 5/100\n",
      "313/313 [==============================] - 3s 9ms/step - loss: 0.6783 - accuracy: 0.5778 - val_loss: 0.6792 - val_accuracy: 0.5742\n",
      "Epoch 6/100\n",
      "313/313 [==============================] - 3s 9ms/step - loss: 0.6730 - accuracy: 0.5923 - val_loss: 0.6755 - val_accuracy: 0.5846\n",
      "Epoch 7/100\n",
      "313/313 [==============================] - 3s 9ms/step - loss: 0.6679 - accuracy: 0.6052 - val_loss: 0.6695 - val_accuracy: 0.5974\n",
      "Epoch 8/100\n",
      "313/313 [==============================] - 3s 9ms/step - loss: 0.6619 - accuracy: 0.6160 - val_loss: 0.6640 - val_accuracy: 0.6108\n",
      "Epoch 9/100\n",
      "313/313 [==============================] - 3s 9ms/step - loss: 0.6546 - accuracy: 0.6303 - val_loss: 0.6567 - val_accuracy: 0.6214\n",
      "Epoch 10/100\n",
      "313/313 [==============================] - 3s 9ms/step - loss: 0.6471 - accuracy: 0.6428 - val_loss: 0.6485 - val_accuracy: 0.6370\n",
      "Epoch 11/100\n",
      "313/313 [==============================] - 3s 9ms/step - loss: 0.6385 - accuracy: 0.6550 - val_loss: 0.6414 - val_accuracy: 0.6498\n",
      "Epoch 12/100\n",
      "313/313 [==============================] - 3s 9ms/step - loss: 0.6293 - accuracy: 0.6666 - val_loss: 0.6314 - val_accuracy: 0.6632\n",
      "Epoch 13/100\n",
      "313/313 [==============================] - 3s 9ms/step - loss: 0.6198 - accuracy: 0.6804 - val_loss: 0.6219 - val_accuracy: 0.6736\n",
      "Epoch 14/100\n",
      "313/313 [==============================] - 3s 9ms/step - loss: 0.6098 - accuracy: 0.6891 - val_loss: 0.6128 - val_accuracy: 0.6814\n",
      "Epoch 15/100\n",
      "313/313 [==============================] - 3s 9ms/step - loss: 0.5999 - accuracy: 0.6995 - val_loss: 0.6043 - val_accuracy: 0.6884\n",
      "Epoch 16/100\n",
      "313/313 [==============================] - 3s 9ms/step - loss: 0.5906 - accuracy: 0.7086 - val_loss: 0.5925 - val_accuracy: 0.6980\n",
      "Epoch 17/100\n",
      "313/313 [==============================] - 3s 9ms/step - loss: 0.5814 - accuracy: 0.7143 - val_loss: 0.5842 - val_accuracy: 0.7046\n",
      "Epoch 18/100\n",
      "313/313 [==============================] - 3s 9ms/step - loss: 0.5730 - accuracy: 0.7204 - val_loss: 0.5783 - val_accuracy: 0.7104\n",
      "Epoch 19/100\n",
      "313/313 [==============================] - 3s 9ms/step - loss: 0.5645 - accuracy: 0.7261 - val_loss: 0.5690 - val_accuracy: 0.7166\n",
      "Epoch 20/100\n",
      "313/313 [==============================] - 3s 9ms/step - loss: 0.5568 - accuracy: 0.7315 - val_loss: 0.5621 - val_accuracy: 0.7176\n",
      "Epoch 21/100\n",
      "313/313 [==============================] - 3s 9ms/step - loss: 0.5499 - accuracy: 0.7354 - val_loss: 0.5555 - val_accuracy: 0.7224\n",
      "Epoch 22/100\n",
      "313/313 [==============================] - 3s 9ms/step - loss: 0.5441 - accuracy: 0.7394 - val_loss: 0.5512 - val_accuracy: 0.7272\n",
      "Epoch 23/100\n",
      "313/313 [==============================] - 3s 9ms/step - loss: 0.5375 - accuracy: 0.7444 - val_loss: 0.5458 - val_accuracy: 0.7318\n",
      "Epoch 24/100\n",
      "313/313 [==============================] - 3s 9ms/step - loss: 0.5332 - accuracy: 0.7466 - val_loss: 0.5420 - val_accuracy: 0.7334\n",
      "Epoch 25/100\n",
      "313/313 [==============================] - 3s 9ms/step - loss: 0.5290 - accuracy: 0.7491 - val_loss: 0.5374 - val_accuracy: 0.7336\n",
      "Epoch 26/100\n",
      "313/313 [==============================] - 3s 9ms/step - loss: 0.5253 - accuracy: 0.7515 - val_loss: 0.5354 - val_accuracy: 0.7388\n",
      "Epoch 27/100\n",
      "313/313 [==============================] - 3s 9ms/step - loss: 0.5221 - accuracy: 0.7531 - val_loss: 0.5318 - val_accuracy: 0.7400\n",
      "Epoch 28/100\n",
      "313/313 [==============================] - 3s 9ms/step - loss: 0.5186 - accuracy: 0.7558 - val_loss: 0.5333 - val_accuracy: 0.7398\n",
      "Epoch 29/100\n",
      "313/313 [==============================] - 3s 9ms/step - loss: 0.5156 - accuracy: 0.7564 - val_loss: 0.5429 - val_accuracy: 0.7316\n",
      "Epoch 30/100\n",
      "313/313 [==============================] - 3s 9ms/step - loss: 0.5129 - accuracy: 0.7583 - val_loss: 0.5259 - val_accuracy: 0.7436\n",
      "Epoch 31/100\n",
      "313/313 [==============================] - 3s 9ms/step - loss: 0.5111 - accuracy: 0.7591 - val_loss: 0.5246 - val_accuracy: 0.7434\n",
      "Epoch 32/100\n",
      "313/313 [==============================] - 3s 9ms/step - loss: 0.5088 - accuracy: 0.7595 - val_loss: 0.5245 - val_accuracy: 0.7430\n",
      "Epoch 33/100\n",
      "313/313 [==============================] - 3s 9ms/step - loss: 0.5069 - accuracy: 0.7618 - val_loss: 0.5231 - val_accuracy: 0.7422\n",
      "Epoch 34/100\n",
      "313/313 [==============================] - 3s 9ms/step - loss: 0.5043 - accuracy: 0.7626 - val_loss: 0.5235 - val_accuracy: 0.7418\n",
      "Epoch 35/100\n",
      "313/313 [==============================] - 3s 9ms/step - loss: 0.5039 - accuracy: 0.7631 - val_loss: 0.5212 - val_accuracy: 0.7474\n",
      "Epoch 36/100\n",
      "313/313 [==============================] - 3s 9ms/step - loss: 0.5024 - accuracy: 0.7639 - val_loss: 0.5188 - val_accuracy: 0.7468\n",
      "Epoch 37/100\n",
      "313/313 [==============================] - 3s 9ms/step - loss: 0.5009 - accuracy: 0.7648 - val_loss: 0.5195 - val_accuracy: 0.7478\n",
      "Epoch 38/100\n",
      "313/313 [==============================] - 3s 9ms/step - loss: 0.4992 - accuracy: 0.7653 - val_loss: 0.5210 - val_accuracy: 0.7482\n",
      "Epoch 39/100\n",
      "313/313 [==============================] - 3s 9ms/step - loss: 0.4984 - accuracy: 0.7655 - val_loss: 0.5236 - val_accuracy: 0.7442\n"
     ]
    }
   ],
   "source": [
    "rmsprop = keras.optimizers.RMSprop(learning_rate=1e-4)  # 기본값 말고 0.0001로\n",
    "model.compile(optimizer=rmsprop, loss='binary_crossentropy', \n",
    "              metrics=['accuracy'])\n",
    "\n",
    "checkpoint_cb = keras.callbacks.ModelCheckpoint('best-simplernn-model.h5', \n",
    "                                                save_best_only=True)\n",
    "early_stopping_cb = keras.callbacks.EarlyStopping(patience=3,\n",
    "                                                  restore_best_weights=True)\n",
    "\n",
    "history = model.fit(train_oh, train_target, epochs=100, batch_size=64,\n",
    "                    validation_data=(val_oh, val_target),\n",
    "                    callbacks=[checkpoint_cb, early_stopping_cb])"
   ]
  },
  {
   "cell_type": "code",
   "execution_count": 28,
   "metadata": {
    "colab": {
     "base_uri": "https://localhost:8080/",
     "height": 279
    },
    "id": "YS_5tIG26kQa",
    "outputId": "18eda99e-1ac8-4174-9da8-2051e82e8ab6",
    "tags": []
   },
   "outputs": [
    {
     "data": {
      "image/png": "[encoded data removed]",
      "text/plain": [
       "<Figure size 640x480 with 1 Axes>"
      ]
     },
     "metadata": {},
     "output_type": "display_data"
    }
   ],
   "source": [
    "plt.plot(history.history['loss'])\n",
    "plt.plot(history.history['val_loss'])\n",
    "plt.xlabel('epoch')\n",
    "plt.ylabel('loss')\n",
    "plt.legend(['train', 'val'])\n",
    "plt.show()"
   ]
  },
  {
   "cell_type": "markdown",
   "metadata": {
    "id": "K_U_lVie6kQa"
   },
   "source": [
    "## 단어 임베딩을 사용하기"
   ]
  },
  {
   "cell_type": "code",
   "execution_count": 29,
   "metadata": {
    "colab": {
     "base_uri": "https://localhost:8080/"
    },
    "id": "Ofl-Ifev6kQa",
    "outputId": "073eefb4-ec62-473a-ec84-54474f6b1ce3",
    "tags": []
   },
   "outputs": [
    {
     "name": "stdout",
     "output_type": "stream",
     "text": [
      "Model: \"sequential_1\"\n",
      "_________________________________________________________________\n",
      " Layer (type)                Output Shape              Param #   \n",
      "=================================================================\n",
      " embedding (Embedding)       (None, 100, 16)           4800      \n",
      "                                                                 \n",
      " simple_rnn_1 (SimpleRNN)    (None, 8)                 200       \n",
      "                                                                 \n",
      " dense_1 (Dense)             (None, 1)                 9         \n",
      "                                                                 \n",
      "=================================================================\n",
      "Total params: 5,009\n",
      "Trainable params: 5,009\n",
      "Non-trainable params: 0\n",
      "_________________________________________________________________\n"
     ]
    }
   ],
   "source": [
    "model2 = keras.Sequential()\n",
    "\n",
    "model2.add(keras.layers.Embedding(300, 16, input_length=100))  # 임베딩 벡터 크기 16, 입력 시퀀스의 길이 == 샘플 길이\n",
    "model2.add(keras.layers.SimpleRNN(8))\n",
    "model2.add(keras.layers.Dense(1, activation='sigmoid'))\n",
    "\n",
    "model2.summary()"
   ]
  },
  {
   "cell_type": "code",
   "execution_count": 30,
   "metadata": {
    "colab": {
     "base_uri": "https://localhost:8080/"
    },
    "id": "78TUrJAs6kQa",
    "outputId": "e25ba678-f0ee-43ae-f341-080934d2e28f",
    "tags": []
   },
   "outputs": [
    {
     "name": "stdout",
     "output_type": "stream",
     "text": [
      "Epoch 1/100\n",
      "313/313 [==============================] - 3s 9ms/step - loss: 0.6892 - accuracy: 0.5354 - val_loss: 0.6704 - val_accuracy: 0.5876\n",
      "Epoch 2/100\n",
      "313/313 [==============================] - 3s 8ms/step - loss: 0.6398 - accuracy: 0.6467 - val_loss: 0.6233 - val_accuracy: 0.6658\n",
      "Epoch 3/100\n",
      "313/313 [==============================] - 3s 8ms/step - loss: 0.6050 - accuracy: 0.6938 - val_loss: 0.6001 - val_accuracy: 0.6954\n",
      "Epoch 4/100\n",
      "313/313 [==============================] - 3s 8ms/step - loss: 0.5830 - accuracy: 0.7172 - val_loss: 0.5888 - val_accuracy: 0.7022\n",
      "Epoch 5/100\n",
      "313/313 [==============================] - 3s 8ms/step - loss: 0.5662 - accuracy: 0.7300 - val_loss: 0.5669 - val_accuracy: 0.7300\n",
      "Epoch 6/100\n",
      "313/313 [==============================] - 3s 8ms/step - loss: 0.5525 - accuracy: 0.7411 - val_loss: 0.5535 - val_accuracy: 0.7364\n",
      "Epoch 7/100\n",
      "313/313 [==============================] - 3s 8ms/step - loss: 0.5409 - accuracy: 0.7474 - val_loss: 0.5423 - val_accuracy: 0.7414\n",
      "Epoch 8/100\n",
      "313/313 [==============================] - 3s 8ms/step - loss: 0.5312 - accuracy: 0.7509 - val_loss: 0.5439 - val_accuracy: 0.7356\n",
      "Epoch 9/100\n",
      "313/313 [==============================] - 3s 8ms/step - loss: 0.5235 - accuracy: 0.7549 - val_loss: 0.5485 - val_accuracy: 0.7196\n",
      "Epoch 10/100\n",
      "313/313 [==============================] - 3s 8ms/step - loss: 0.5177 - accuracy: 0.7574 - val_loss: 0.5380 - val_accuracy: 0.7374\n",
      "Epoch 11/100\n",
      "313/313 [==============================] - 3s 9ms/step - loss: 0.5136 - accuracy: 0.7600 - val_loss: 0.5263 - val_accuracy: 0.7444\n",
      "Epoch 12/100\n",
      "313/313 [==============================] - 3s 8ms/step - loss: 0.5094 - accuracy: 0.7610 - val_loss: 0.5263 - val_accuracy: 0.7426\n",
      "Epoch 13/100\n",
      "313/313 [==============================] - 3s 8ms/step - loss: 0.5056 - accuracy: 0.7636 - val_loss: 0.5210 - val_accuracy: 0.7458\n",
      "Epoch 14/100\n",
      "313/313 [==============================] - 3s 8ms/step - loss: 0.5028 - accuracy: 0.7650 - val_loss: 0.5216 - val_accuracy: 0.7454\n",
      "Epoch 15/100\n",
      "313/313 [==============================] - 3s 8ms/step - loss: 0.4999 - accuracy: 0.7681 - val_loss: 0.5666 - val_accuracy: 0.7000\n",
      "Epoch 16/100\n",
      "313/313 [==============================] - 3s 8ms/step - loss: 0.4974 - accuracy: 0.7681 - val_loss: 0.5157 - val_accuracy: 0.7504\n",
      "Epoch 17/100\n",
      "313/313 [==============================] - 3s 9ms/step - loss: 0.4945 - accuracy: 0.7714 - val_loss: 0.5223 - val_accuracy: 0.7444\n",
      "Epoch 18/100\n",
      "313/313 [==============================] - 3s 8ms/step - loss: 0.4927 - accuracy: 0.7715 - val_loss: 0.5154 - val_accuracy: 0.7474\n",
      "Epoch 19/100\n",
      "313/313 [==============================] - 3s 8ms/step - loss: 0.4905 - accuracy: 0.7737 - val_loss: 0.5139 - val_accuracy: 0.7444\n",
      "Epoch 20/100\n",
      "313/313 [==============================] - 3s 9ms/step - loss: 0.4880 - accuracy: 0.7746 - val_loss: 0.5124 - val_accuracy: 0.7520\n",
      "Epoch 21/100\n",
      "313/313 [==============================] - 3s 8ms/step - loss: 0.4871 - accuracy: 0.7750 - val_loss: 0.5145 - val_accuracy: 0.7510\n",
      "Epoch 22/100\n",
      "313/313 [==============================] - 3s 9ms/step - loss: 0.4847 - accuracy: 0.7771 - val_loss: 0.5159 - val_accuracy: 0.7466\n",
      "Epoch 23/100\n",
      "313/313 [==============================] - 3s 8ms/step - loss: 0.4831 - accuracy: 0.7775 - val_loss: 0.5136 - val_accuracy: 0.7512\n"
     ]
    }
   ],
   "source": [
    "rmsprop = keras.optimizers.RMSprop(learning_rate=1e-4)\n",
    "model2.compile(optimizer=rmsprop, loss='binary_crossentropy', \n",
    "               metrics=['accuracy'])\n",
    "\n",
    "checkpoint_cb = keras.callbacks.ModelCheckpoint('best-embedding-model.h5', \n",
    "                                                save_best_only=True)\n",
    "early_stopping_cb = keras.callbacks.EarlyStopping(patience=3,\n",
    "                                                  restore_best_weights=True)\n",
    "\n",
    "history = model2.fit(train_seq, train_target, epochs=100, batch_size=64,\n",
    "                     validation_data=(val_seq, val_target),\n",
    "                     callbacks=[checkpoint_cb, early_stopping_cb])"
   ]
  },
  {
   "cell_type": "code",
   "execution_count": 31,
   "metadata": {
    "colab": {
     "base_uri": "https://localhost:8080/",
     "height": 279
    },
    "id": "brUvKwLt6kQb",
    "outputId": "a4714573-fe0a-4457-d152-45f7539f3924",
    "tags": []
   },
   "outputs": [
    {
     "data": {
      "image/png": "[encoded data removed]",
      "text/plain": [
       "<Figure size 640x480 with 1 Axes>"
      ]
     },
     "metadata": {},
     "output_type": "display_data"
    }
   ],
   "source": [
    "plt.plot(history.history['loss'])\n",
    "plt.plot(history.history['val_loss'])\n",
    "plt.xlabel('epoch')\n",
    "plt.ylabel('loss')\n",
    "plt.legend(['train', 'val'])\n",
    "plt.show()"
   ]
  }
 ],
 "metadata": {
  "accelerator": "GPU",
  "colab": {
   "name": "9-2.ipynb",
   "provenance": []
  },
  "kernelspec": {
   "display_name": "Python 3 (ipykernel)",
   "language": "python",
   "name": "python3"
  },
  "language_info": {
   "codemirror_mode": {
    "name": "ipython",
    "version": 3
   },
   "file_extension": ".py",
   "mimetype": "text/x-python",
   "name": "python",
   "nbconvert_exporter": "python",
   "pygments_lexer": "ipython3",
   "version": "3.10.11"
  }
 },
 "nbformat": 4,
 "nbformat_minor": 4
}
